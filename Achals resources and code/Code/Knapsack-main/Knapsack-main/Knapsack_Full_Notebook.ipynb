{
 "cells": [
  {
   "cell_type": "markdown",
   "id": "423f9147",
   "metadata": {},
   "source": [
    "\n",
    "*This notebook provides the evaluation code used for benchmarking QAOA, Warm-start QAOA, a variant of warm-start QAOA, VQE, Quantum Annealing along with some classical methods such as Integer Programming, Simulated Annealing etc.. The code provided was used to generate the results presented in the paper https://arxiv.org/abs/2301.05750 .*\n",
    "\n"
   ]
  },
  {
   "cell_type": "code",
   "execution_count": 59,
   "id": "1f4ebe88",
   "metadata": {},
   "outputs": [
    {
     "data": {
      "text/plain": [
       "'\\n@author: QUTAC Quantum\\n\\nSPDX-FileCopyrightText: 2023 QUTAC\\n\\nSPDX-License-Identifier: Apache-2.0\\n\\n'"
      ]
     },
     "execution_count": 59,
     "metadata": {},
     "output_type": "execute_result"
    }
   ],
   "source": [
    "# -*- coding: utf-8 -*-\n",
    "\"\"\"\n",
    "@author: QUTAC Quantum\n",
    "\n",
    "SPDX-FileCopyrightText: 2023 QUTAC\n",
    "\n",
    "SPDX-License-Identifier: Apache-2.0\n",
    "\n",
    "\"\"\""
   ]
  },
  {
   "attachments": {},
   "cell_type": "markdown",
   "metadata": {},
   "source": [
    "# Multi-Knapsack Problem\n",
    "\n",
    "We first present the mathematical model for the multi-knapsack optimization problem. Given $N$ items and $M$ knapsacks, the aim of the problem is to assign as many items to one of the knapsacks whicle not exceeding the capacity of any knapsack. Additionally, each item in some knapsack contributes to a addedd value.\n",
    "\n",
    "Formally, we can state the problem in the following manner. Let, $ v_j$ be the value of item $j$, $j \\in \\{0,1,\\dots, N-1\\}$, $w_j$ be the weight of time $j$, and $c_i$ be the capacity of knapsack $i$, $i\\in \\{0,1,\\dots, M-1\\}$. We can define a decision variable $x_{i,j}$, such that\n",
    "$$\n",
    "\\begin{equation*}\n",
    "    x_{i,j}=\n",
    "    \\begin{cases}\n",
    "      1, & \\text{if item $j$ is assigned to knapsack $i$}\\;, \\\\\n",
    "      0, & \\text{otherwise}\\;.\n",
    "    \\end{cases}\n",
    "  \\end{equation*}\n",
    "$$\n",
    "\n",
    "\n",
    "The multi-knapsack problem can be formulated as,\n",
    "\n",
    "$$\n",
    "\\begin{equation*}\n",
    "\\begin{split}\n",
    "\\max &\\sum_{i=0}^{M-1} \\sum_{j=0}^{N-1} v_{i,j} \\cdot x_{i,j} \\\\\n",
    "\\text{such that } & \\sum_{j=0}^{N-1} w_j \\cdot x_{i,j} \\leq c_i, \\hspace{1em} \\forall i \\in \\{0,1,\\dots, M-1\\}\\\\\n",
    "& \\sum_{i=0}^{M-1} x_{i,j} \\leq 1, \\hspace{2em} \\forall j \\in \\{0,1,\\dots, N-1\\} \\\\\n",
    "\\end{split}\n",
    "\\end{equation*}\n",
    "$$\n",
    "\n",
    "## QUBO Formulation\n",
    "\n",
    "### 1) Any item $i$ can be assigned to a maximum one knapsack. It is possible that an item is not assigned to any knapsack\n",
    "$$\n",
    "H_{\\text{single}}= \\sum_{j=0}^{N-1} \\left(\\sum_{i=0}^{M-1} x_{i,j}\\right)\\cdot \\left(\\sum_{i=0}^{M-1} x_{i,j}-1 \\right) \\;.\n",
    "$$\n",
    "\n",
    "### 2) Ensure that the capacity of any knapsack is not exceeded. This is achieved by incorporated by introducing slack bits\n",
    "$$\n",
    "\\text{H}_{\\text{capacity}}=\\sum_{i=0}^{M-1} \\left[\\left(\\sum_{j=0}^{N-1} w_j\\cdot x_{i,j}\\right) + \\left(\\sum_{b=0}^{\\lfloor\\log{c_i}\\rfloor} 2^{b}\\cdot y_{i,b}\\right) - c_i \\right]^2 \\;.\n",
    "$$\n",
    "\n",
    "### 3) Maximize the total value of assigned items in knapsacks\n",
    "\n",
    "$$\n",
    "H_{\\text{obj}}= - \\sum_{i=0}^{M-1} \\sum_{j=0}^{N-1} v_{i,j} \\cdot x_{i,j} \\;.\n",
    "$$\n",
    "\n",
    "Finally, the complete QUBO is written as,\n",
    "\n",
    "$$\n",
    "H = \\alpha\\cdot H_{\\text{single}} + \\beta\\cdot \\text{H}_{\\text{capacity}} + \\gamma \\cdot H_{\\text{obj}} \\;, \\\\\n",
    "$$\n",
    "\n",
    "where $\\alpha,\\beta $ are the penalty coefficients, and $\\gamma$ is the objective weight. Note, $\\alpha>0, \\beta>0, \\gamma >0$.\n"
   ]
  },
  {
   "cell_type": "code",
   "execution_count": 60,
   "id": "d072b236",
   "metadata": {},
   "outputs": [
    {
     "name": "stdout",
     "output_type": "stream",
     "text": [
      "The autoreload extension is already loaded. To reload it, use:\n",
      "  %reload_ext autoreload\n"
     ]
    }
   ],
   "source": [
    "%load_ext autoreload\n",
    "%autoreload 2"
   ]
  },
  {
   "cell_type": "markdown",
   "id": "0bf39849",
   "metadata": {},
   "source": [
    "# Load Problem Data\n",
    "\n",
    "We first load the data for problem instances saved ine a json file `data/knapsack/qaoa_data.json`. We benchmark the studied algorithms on four different problem instances with increasing problem sizes. "
   ]
  },
  {
   "cell_type": "code",
   "execution_count": 61,
   "id": "8b94d9e5",
   "metadata": {},
   "outputs": [],
   "source": [
    "import sys\n",
    "import json\n",
    "import importlib\n",
    "import numpy as np\n",
    "import gurobipy as gp\n",
    "import warnings\n",
    "from qiskit_aer import AerSimulator\n",
    "warnings.filterwarnings('ignore')\n",
    "\n",
    "file      = 'data/knapsack/qaoa_data.json'\n",
    "scenario  = 'scenario_2'\n",
    "\n",
    "with open(file, 'r') as f:\n",
    "    dataset = json.load(f)\n",
    "\n",
    "article_reward = np.array(dataset[scenario]['article_reward'])\n",
    "article_weight = np.array(dataset[scenario]['article_weight'])\n",
    "knapsack_capacity = np.array(dataset[scenario]['knapsack_capacity'])\n",
    "optimal = np.array(dataset[scenario]['optimal_solution'])\n",
    "(number_of_knapsacks, number_of_articles) = article_reward.shape"
   ]
  },
  {
   "attachments": {},
   "cell_type": "markdown",
   "id": "b5abb51e",
   "metadata": {},
   "source": [
    "## Classical Integer programming\n",
    "\n",
    "As a first solver we present the evaluation code for Integer Programming, which models the multi-knapsack problem as a linear integer program and solves the model using `PuLp` solver. The code can also be run using the `Gurobi` solver."
   ]
  },
  {
   "cell_type": "code",
   "execution_count": 62,
   "id": "6daeb635",
   "metadata": {},
   "outputs": [
    {
     "name": "stdout",
     "output_type": "stream",
     "text": [
      "Variables Created\n",
      "Single Knapsack done\n",
      "Constraint with Slack Done\n",
      "Objective Done\n"
     ]
    },
    {
     "data": {
      "text/plain": [
       "(12.0, {0: 5.0, 1: 5.0}, array([5, 5]), array([3, 3, 2, 2]))"
      ]
     },
     "execution_count": 62,
     "metadata": {},
     "output_type": "execute_result"
    }
   ],
   "source": [
    "import importlib\n",
    "import QAOA.sources.KnapsackIP\n",
    "importlib.reload(QAOA.sources.KnapsackIP)\n",
    "from QAOA.sources.KnapsackIP import IPSolver\n",
    "\n",
    "formulation = 'Binary'\n",
    "solver      = None # None Gurobi\n",
    "\n",
    "ip_solver=IPSolver(article_reward, article_weight, knapsack_capacity, formulation)\n",
    "ip_solver.create_model()\n",
    "status, solution, sol_y, consumed, objective_value = ip_solver.solve(solver)\n",
    "objective_value, consumed, knapsack_capacity, article_weight"
   ]
  },
  {
   "attachments": {},
   "cell_type": "markdown",
   "id": "1cd6ff90",
   "metadata": {},
   "source": [
    "## Standard QAOA\n",
    "\n",
    "The code cell below provides the solver for the Quantum Approximate Optimization Algorithm (https://arxiv.org/abs/1411.4028). For the classical optimization, we utilize `SLSQP` solver. More details of the implementation can be found in the `QAOASolver` class provided in the source code."
   ]
  },
  {
   "cell_type": "code",
   "execution_count": 63,
   "id": "6e78f0ab",
   "metadata": {},
   "outputs": [
    {
     "ename": "AttributeError",
     "evalue": "'SparsePauliOp' object has no attribute 'primitive_strings'",
     "output_type": "error",
     "traceback": [
      "\u001b[1;31m---------------------------------------------------------------------------\u001b[0m",
      "\u001b[1;31mAttributeError\u001b[0m                            Traceback (most recent call last)",
      "\u001b[1;32mc:\\Users\\ADMIN\\Desktop\\IIT Mandi\\Inter-IIT Tech\\Quantum Computing - Mphasis\\Code\\Knapsack-main\\Knapsack-main\\Knapsack_Full_Notebook.ipynb Cell 10\u001b[0m line \u001b[0;36m2\n\u001b[0;32m     <a href='vscode-notebook-cell:/c%3A/Users/ADMIN/Desktop/IIT%20Mandi/Inter-IIT%20Tech/Quantum%20Computing%20-%20Mphasis/Code/Knapsack-main/Knapsack-main/Knapsack_Full_Notebook.ipynb#X26sZmlsZQ%3D%3D?line=14'>15</a>\u001b[0m objective_weight  \u001b[39m=\u001b[39m \u001b[39m1\u001b[39m\n\u001b[0;32m     <a href='vscode-notebook-cell:/c%3A/Users/ADMIN/Desktop/IIT%20Mandi/Inter-IIT%20Tech/Quantum%20Computing%20-%20Mphasis/Code/Knapsack-main/Knapsack-main/Knapsack_Full_Notebook.ipynb#X26sZmlsZQ%3D%3D?line=16'>17</a>\u001b[0m qaoa \u001b[39m=\u001b[39m QAOASolver(article_reward, article_weight, knapsack_capacity, formulation,\n\u001b[0;32m     <a href='vscode-notebook-cell:/c%3A/Users/ADMIN/Desktop/IIT%20Mandi/Inter-IIT%20Tech/Quantum%20Computing%20-%20Mphasis/Code/Knapsack-main/Knapsack-main/Knapsack_Full_Notebook.ipynb#X26sZmlsZQ%3D%3D?line=17'>18</a>\u001b[0m                   single_penalty, capacity_penalty, objective_weight,num_layers)\n\u001b[1;32m---> <a href='vscode-notebook-cell:/c%3A/Users/ADMIN/Desktop/IIT%20Mandi/Inter-IIT%20Tech/Quantum%20Computing%20-%20Mphasis/Code/Knapsack-main/Knapsack-main/Knapsack_Full_Notebook.ipynb#X26sZmlsZQ%3D%3D?line=20'>21</a>\u001b[0m all_solutions, samples, runtime, classical_iterations\u001b[39m=\u001b[39m qaoa\u001b[39m.\u001b[39;49msolve_qaoa_knapsack(init_params, total_iterations, num_layers, n_shots)\n",
      "File \u001b[1;32mc:\\Users\\ADMIN\\Desktop\\IIT Mandi\\Inter-IIT Tech\\Quantum Computing - Mphasis\\Code\\Knapsack-main\\Knapsack-main\\QAOA\\sources\\KnapsackQAOA_Qiskit.py:210\u001b[0m, in \u001b[0;36mQAOASolver.solve_qaoa_knapsack\u001b[1;34m(self, initial_params, total_iterations, num_layers, nshots)\u001b[0m\n\u001b[0;32m    202\u001b[0m qaoa_mes \u001b[39m=\u001b[39m QAOA(optimizer\u001b[39m=\u001b[39moptimizer, \n\u001b[0;32m    203\u001b[0m                 reps\u001b[39m=\u001b[39mnum_layers, \n\u001b[0;32m    204\u001b[0m                 include_custom\u001b[39m=\u001b[39m\u001b[39mTrue\u001b[39;00m,\n\u001b[0;32m    205\u001b[0m                 quantum_instance\u001b[39m=\u001b[39mqins, \n\u001b[0;32m    206\u001b[0m                 initial_point\u001b[39m=\u001b[39mparams, \n\u001b[0;32m    207\u001b[0m                 callback\u001b[39m=\u001b[39mstore_intermediate_result)\n\u001b[0;32m    209\u001b[0m qaoa \u001b[39m=\u001b[39m MinimumEigenOptimizer(qaoa_mes) \n\u001b[1;32m--> 210\u001b[0m qaoa_result \u001b[39m=\u001b[39m qaoa\u001b[39m.\u001b[39;49msolve(qp)\n\u001b[0;32m    213\u001b[0m all_solutions \u001b[39m=\u001b[39m []\n\u001b[0;32m    214\u001b[0m \u001b[39mfor\u001b[39;00m i \u001b[39min\u001b[39;00m \u001b[39mrange\u001b[39m(\u001b[39mlen\u001b[39m(qaoa_result\u001b[39m.\u001b[39msamples)):\n",
      "File \u001b[1;32mc:\\Users\\ADMIN\\AppData\\Local\\Programs\\Python\\Python311\\Lib\\site-packages\\qiskit_optimization\\algorithms\\minimum_eigen_optimizer.py:205\u001b[0m, in \u001b[0;36mMinimumEigenOptimizer.solve\u001b[1;34m(self, problem)\u001b[0m\n\u001b[0;32m    202\u001b[0m \u001b[39m# construct operator and offset\u001b[39;00m\n\u001b[0;32m    203\u001b[0m operator, offset \u001b[39m=\u001b[39m problem_\u001b[39m.\u001b[39mto_ising()\n\u001b[1;32m--> 205\u001b[0m \u001b[39mreturn\u001b[39;00m \u001b[39mself\u001b[39;49m\u001b[39m.\u001b[39;49m_solve_internal(operator, offset, problem_, problem)\n",
      "File \u001b[1;32mc:\\Users\\ADMIN\\AppData\\Local\\Programs\\Python\\Python311\\Lib\\site-packages\\qiskit_optimization\\algorithms\\minimum_eigen_optimizer.py:218\u001b[0m, in \u001b[0;36mMinimumEigenOptimizer._solve_internal\u001b[1;34m(self, operator, offset, converted_problem, original_problem)\u001b[0m\n\u001b[0;32m    215\u001b[0m eigen_result: Optional[MinimumEigensolverResult] \u001b[39m=\u001b[39m \u001b[39mNone\u001b[39;00m\n\u001b[0;32m    216\u001b[0m \u001b[39mif\u001b[39;00m operator\u001b[39m.\u001b[39mnum_qubits \u001b[39m>\u001b[39m \u001b[39m0\u001b[39m:\n\u001b[0;32m    217\u001b[0m     \u001b[39m# approximate ground state of operator using min eigen solver\u001b[39;00m\n\u001b[1;32m--> 218\u001b[0m     eigen_result \u001b[39m=\u001b[39m \u001b[39mself\u001b[39;49m\u001b[39m.\u001b[39;49m_min_eigen_solver\u001b[39m.\u001b[39;49mcompute_minimum_eigenvalue(operator)\n\u001b[0;32m    219\u001b[0m     \u001b[39m# analyze results\u001b[39;00m\n\u001b[0;32m    220\u001b[0m     raw_samples \u001b[39m=\u001b[39m \u001b[39mNone\u001b[39;00m\n",
      "File \u001b[1;32mc:\\Users\\ADMIN\\AppData\\Local\\Programs\\Python\\Python311\\Lib\\site-packages\\qiskit\\algorithms\\minimum_eigen_solvers\\vqe.py:536\u001b[0m, in \u001b[0;36mVQE.compute_minimum_eigenvalue\u001b[1;34m(self, operator, aux_operators)\u001b[0m\n\u001b[0;32m    533\u001b[0m     gradient \u001b[39m=\u001b[39m \u001b[39mself\u001b[39m\u001b[39m.\u001b[39m_gradient\n\u001b[0;32m    535\u001b[0m \u001b[39mself\u001b[39m\u001b[39m.\u001b[39m_eval_count \u001b[39m=\u001b[39m \u001b[39m0\u001b[39m\n\u001b[1;32m--> 536\u001b[0m energy_evaluation, expectation \u001b[39m=\u001b[39m \u001b[39mself\u001b[39;49m\u001b[39m.\u001b[39;49mget_energy_evaluation(\n\u001b[0;32m    537\u001b[0m     operator, return_expectation\u001b[39m=\u001b[39;49m\u001b[39mTrue\u001b[39;49;00m\n\u001b[0;32m    538\u001b[0m )\n\u001b[0;32m    540\u001b[0m start_time \u001b[39m=\u001b[39m time()\n\u001b[0;32m    542\u001b[0m \u001b[39mif\u001b[39;00m \u001b[39mcallable\u001b[39m(\u001b[39mself\u001b[39m\u001b[39m.\u001b[39moptimizer):\n",
      "File \u001b[1;32mc:\\Users\\ADMIN\\AppData\\Local\\Programs\\Python\\Python311\\Lib\\site-packages\\qiskit\\algorithms\\minimum_eigen_solvers\\vqe.py:613\u001b[0m, in \u001b[0;36mVQE.get_energy_evaluation\u001b[1;34m(self, operator, return_expectation)\u001b[0m\n\u001b[0;32m    610\u001b[0m     \u001b[39mraise\u001b[39;00m \u001b[39mRuntimeError\u001b[39;00m(\u001b[39m\"\u001b[39m\u001b[39mThe ansatz must be parameterized, but has 0 free parameters.\u001b[39m\u001b[39m\"\u001b[39m)\n\u001b[0;32m    612\u001b[0m ansatz_params \u001b[39m=\u001b[39m \u001b[39mself\u001b[39m\u001b[39m.\u001b[39mansatz\u001b[39m.\u001b[39mparameters\n\u001b[1;32m--> 613\u001b[0m expect_op, expectation \u001b[39m=\u001b[39m \u001b[39mself\u001b[39;49m\u001b[39m.\u001b[39;49mconstruct_expectation(\n\u001b[0;32m    614\u001b[0m     ansatz_params, operator, return_expectation\u001b[39m=\u001b[39;49m\u001b[39mTrue\u001b[39;49;00m\n\u001b[0;32m    615\u001b[0m )\n\u001b[0;32m    617\u001b[0m \u001b[39mdef\u001b[39;00m \u001b[39menergy_evaluation\u001b[39m(parameters):\n\u001b[0;32m    618\u001b[0m     parameter_sets \u001b[39m=\u001b[39m np\u001b[39m.\u001b[39mreshape(parameters, (\u001b[39m-\u001b[39m\u001b[39m1\u001b[39m, num_parameters))\n",
      "File \u001b[1;32mc:\\Users\\ADMIN\\AppData\\Local\\Programs\\Python\\Python311\\Lib\\site-packages\\qiskit\\algorithms\\minimum_eigen_solvers\\vqe.py:431\u001b[0m, in \u001b[0;36mVQE.construct_expectation\u001b[1;34m(self, parameter, operator, return_expectation)\u001b[0m\n\u001b[0;32m    429\u001b[0m \u001b[39m# if expectation was never created, try to create one\u001b[39;00m\n\u001b[0;32m    430\u001b[0m \u001b[39mif\u001b[39;00m \u001b[39mself\u001b[39m\u001b[39m.\u001b[39mexpectation \u001b[39mis\u001b[39;00m \u001b[39mNone\u001b[39;00m:\n\u001b[1;32m--> 431\u001b[0m     expectation \u001b[39m=\u001b[39m ExpectationFactory\u001b[39m.\u001b[39;49mbuild(\n\u001b[0;32m    432\u001b[0m         operator\u001b[39m=\u001b[39;49moperator,\n\u001b[0;32m    433\u001b[0m         backend\u001b[39m=\u001b[39;49m\u001b[39mself\u001b[39;49m\u001b[39m.\u001b[39;49mquantum_instance,\n\u001b[0;32m    434\u001b[0m         include_custom\u001b[39m=\u001b[39;49m\u001b[39mself\u001b[39;49m\u001b[39m.\u001b[39;49m_include_custom,\n\u001b[0;32m    435\u001b[0m     )\n\u001b[0;32m    436\u001b[0m \u001b[39melse\u001b[39;00m:\n\u001b[0;32m    437\u001b[0m     expectation \u001b[39m=\u001b[39m \u001b[39mself\u001b[39m\u001b[39m.\u001b[39mexpectation\n",
      "File \u001b[1;32mc:\\Users\\ADMIN\\AppData\\Local\\Programs\\Python\\Python311\\Lib\\site-packages\\qiskit\\utils\\deprecation.py:96\u001b[0m, in \u001b[0;36mdeprecate_func.<locals>.decorator.<locals>.wrapper\u001b[1;34m(*args, **kwargs)\u001b[0m\n\u001b[0;32m     93\u001b[0m \u001b[39m@functools\u001b[39m\u001b[39m.\u001b[39mwraps(func)\n\u001b[0;32m     94\u001b[0m \u001b[39mdef\u001b[39;00m \u001b[39mwrapper\u001b[39m(\u001b[39m*\u001b[39margs, \u001b[39m*\u001b[39m\u001b[39m*\u001b[39mkwargs):\n\u001b[0;32m     95\u001b[0m     warnings\u001b[39m.\u001b[39mwarn(msg, category\u001b[39m=\u001b[39mcategory, stacklevel\u001b[39m=\u001b[39m\u001b[39m2\u001b[39m)\n\u001b[1;32m---> 96\u001b[0m     \u001b[39mreturn\u001b[39;00m func(\u001b[39m*\u001b[39;49margs, \u001b[39m*\u001b[39;49m\u001b[39m*\u001b[39;49mkwargs)\n",
      "File \u001b[1;32mc:\\Users\\ADMIN\\AppData\\Local\\Programs\\Python\\Python311\\Lib\\site-packages\\qiskit\\opflow\\expectations\\expectation_factory.py:73\u001b[0m, in \u001b[0;36mExpectationFactory.build\u001b[1;34m(operator, backend, include_custom)\u001b[0m\n\u001b[0;32m     70\u001b[0m backend_to_check \u001b[39m=\u001b[39m backend\u001b[39m.\u001b[39mbackend \u001b[39mif\u001b[39;00m \u001b[39misinstance\u001b[39m(backend, QuantumInstance) \u001b[39melse\u001b[39;00m backend\n\u001b[0;32m     72\u001b[0m \u001b[39m# pylint: disable=cyclic-import\u001b[39;00m\n\u001b[1;32m---> 73\u001b[0m primitives \u001b[39m=\u001b[39m operator\u001b[39m.\u001b[39;49mprimitive_strings()\n\u001b[0;32m     74\u001b[0m \u001b[39mif\u001b[39;00m primitives \u001b[39min\u001b[39;00m ({\u001b[39m\"\u001b[39m\u001b[39mPauli\u001b[39m\u001b[39m\"\u001b[39m}, {\u001b[39m\"\u001b[39m\u001b[39mSparsePauliOp\u001b[39m\u001b[39m\"\u001b[39m}):\n\u001b[0;32m     76\u001b[0m     \u001b[39mif\u001b[39;00m backend_to_check \u001b[39mis\u001b[39;00m \u001b[39mNone\u001b[39;00m:\n\u001b[0;32m     77\u001b[0m         \u001b[39m# If user has Aer but didn't specify a backend, use the Aer fast expectation\u001b[39;00m\n",
      "\u001b[1;31mAttributeError\u001b[0m: 'SparsePauliOp' object has no attribute 'primitive_strings'"
     ]
    }
   ],
   "source": [
    "import importlib\n",
    "import QAOA.sources.KnapsackQAOA_Qiskit\n",
    "importlib.reload(QAOA.sources.KnapsackQAOA_Qiskit)\n",
    "from QAOA.sources.KnapsackQAOA_Qiskit import QAOASolver\n",
    "\n",
    "\n",
    "total_iterations  = 1000\n",
    "n_shots           = 10000\n",
    "num_layers        = 3\n",
    "formulation       = 'Binary'\n",
    "\n",
    "init_params=(np.pi/2*np.random.rand(1,2)).tolist()[0]\n",
    "single_penalty = int(2*np.max(article_reward))\n",
    "capacity_penalty = int(2*np.max(article_reward))\n",
    "objective_weight  = 1\n",
    "\n",
    "qaoa = QAOASolver(article_reward, article_weight, knapsack_capacity, formulation,\n",
    "                  single_penalty, capacity_penalty, objective_weight,num_layers)\n",
    "                \n",
    "\n",
    "all_solutions, samples, runtime, classical_iterations= qaoa.solve_qaoa_knapsack(init_params, total_iterations, num_layers, n_shots)"
   ]
  },
  {
   "attachments": {},
   "cell_type": "markdown",
   "id": "21d3975c",
   "metadata": {},
   "source": [
    "## Warm-start QAOA\n",
    "\n",
    "The next code cell provides the evaluation code for Warm-start QAOA (https://arxiv.org/abs/2009.10095). "
   ]
  },
  {
   "cell_type": "code",
   "execution_count": null,
   "id": "89501e2d",
   "metadata": {},
   "outputs": [
    {
     "name": "stdout",
     "output_type": "stream",
     "text": [
      "Restricted license - for non-production use only - expires 2025-11-24\n",
      "Set parameter NonConvex to value 2\n",
      "Gurobi Optimizer version 11.0.0 build v11.0.0rc2 (win64 - Windows 10.0 (19045.2))\n",
      "\n",
      "CPU model: Intel(R) Core(TM) i5-7200U CPU @ 2.50GHz, instruction set [SSE2|AVX|AVX2]\n",
      "Thread count: 2 physical cores, 4 logical processors, using up to 4 threads\n",
      "\n",
      "Optimize a model with 0 rows, 14 columns and 0 nonzeros\n",
      "Model fingerprint: 0x2b40e15c\n",
      "Model has 60 quadratic objective terms\n",
      "Coefficient statistics:\n",
      "  Matrix range     [0e+00, 0e+00]\n",
      "  Objective range  [1e+02, 4e+02]\n",
      "  QObjective range [2e+01, 5e+02]\n",
      "  Bounds range     [1e+00, 1e+00]\n",
      "  RHS range        [0e+00, 0e+00]\n",
      "Presolve time: 0.02s\n",
      "Presolved: 0 rows, 14 columns, 0 nonzeros\n",
      "Presolved model has 60 quadratic objective terms\n",
      "Ordering time: 0.00s\n",
      "\n",
      "Barrier statistics:\n",
      " Free vars  : 6\n",
      " AA' NZ     : 1.400e+01\n",
      " Factor NZ  : 2.100e+01\n",
      " Factor Ops : 9.100e+01 (less than 1 second per iteration)\n",
      " Threads    : 1\n",
      "\n",
      "                  Objective                Residual\n",
      "Iter       Primal          Dual         Primal    Dual     Compl     Time\n",
      "   0  -4.10150004e+06 -7.85251000e+05  5.60e+03 4.38e-07  1.00e+06     0s\n",
      "   1  -4.92995556e+03 -7.84020884e+05  7.05e+00 5.51e-10  1.69e+03     0s\n",
      "   2   5.07302628e+01 -4.23103428e+05  7.05e-06 3.41e-13  2.36e+02     0s\n",
      "   3   4.81776620e+01 -9.56791708e+02  7.59e-09 1.92e-13  5.61e-01     0s\n",
      "   4  -1.56632330e+01 -5.43287148e+01  3.98e-11 1.67e-15  2.16e-02     0s\n",
      "   5  -1.69244280e+01 -1.99236553e+01  1.77e-12 4.44e-16  1.67e-03     0s\n",
      "   6  -1.81136842e+01 -1.85105567e+01  7.93e-14 8.54e-16  2.21e-04     0s\n",
      "   7  -1.82981346e+01 -1.83219181e+01  3.77e-15 1.72e-16  1.33e-05     0s\n",
      "   8  -1.82999978e+01 -1.83000233e+01  9.99e-16 9.44e-16  1.42e-08     0s\n",
      "   9  -1.83000000e+01 -1.83000000e+01  6.66e-16 2.40e-16  1.42e-11     0s\n",
      "\n",
      "Barrier solved model in 9 iterations and 0.05 seconds (0.00 work units)\n",
      "Optimal objective -1.83000000e+01\n",
      "\n",
      "WS-QAOA in progress...\n",
      "Number of qubits 14\n"
     ]
    },
    {
     "ename": "AttributeError",
     "evalue": "'SparsePauliOp' object has no attribute 'primitive_strings'",
     "output_type": "error",
     "traceback": [
      "\u001b[1;31m---------------------------------------------------------------------------\u001b[0m",
      "\u001b[1;31mAttributeError\u001b[0m                            Traceback (most recent call last)",
      "\u001b[1;32mc:\\Users\\ADMIN\\Desktop\\IIT Mandi\\Inter-IIT Tech\\Quantum Computing - Mphasis\\Code\\Knapsack-main\\Knapsack-main\\Knapsack_Full_Notebook.ipynb Cell 18\u001b[0m line \u001b[0;36m3\n\u001b[0;32m     <a href='vscode-notebook-cell:/c%3A/Users/ADMIN/Desktop/IIT%20Mandi/Inter-IIT%20Tech/Quantum%20Computing%20-%20Mphasis/Code/Knapsack-main/Knapsack-main/Knapsack_Full_Notebook.ipynb#X14sZmlsZQ%3D%3D?line=32'>33</a>\u001b[0m \u001b[39mprint\u001b[39m(\u001b[39m'\u001b[39m\u001b[39mWS-QAOA in progress...\u001b[39m\u001b[39m'\u001b[39m)\n\u001b[0;32m     <a href='vscode-notebook-cell:/c%3A/Users/ADMIN/Desktop/IIT%20Mandi/Inter-IIT%20Tech/Quantum%20Computing%20-%20Mphasis/Code/Knapsack-main/Knapsack-main/Knapsack_Full_Notebook.ipynb#X14sZmlsZQ%3D%3D?line=33'>34</a>\u001b[0m \u001b[39mprint\u001b[39m(\u001b[39m'\u001b[39m\u001b[39mNumber of qubits\u001b[39m\u001b[39m'\u001b[39m, \u001b[39mlen\u001b[39m(qaoa\u001b[39m.\u001b[39mvariables))\n\u001b[1;32m---> <a href='vscode-notebook-cell:/c%3A/Users/ADMIN/Desktop/IIT%20Mandi/Inter-IIT%20Tech/Quantum%20Computing%20-%20Mphasis/Code/Knapsack-main/Knapsack-main/Knapsack_Full_Notebook.ipynb#X14sZmlsZQ%3D%3D?line=34'>35</a>\u001b[0m all_solutions, samples, runtime, classical_iterations \u001b[39m=\u001b[39m qaoa\u001b[39m.\u001b[39;49msolve_qaoa_knapsack(mixer_hamiltonian, init_params, total_iterations, num_layers, n_shots)\n",
      "File \u001b[1;32mc:\\Users\\ADMIN\\Desktop\\IIT Mandi\\Inter-IIT Tech\\Quantum Computing - Mphasis\\Code\\Knapsack-main\\Knapsack-main\\QAOA\\sources\\KnapsackWSQAOA_Qiskit.py:325\u001b[0m, in \u001b[0;36mWSQAOASolver.solve_qaoa_knapsack\u001b[1;34m(self, mixer_hamiltonian, initial_params, total_iterations, num_layers, nshots)\u001b[0m\n\u001b[0;32m    315\u001b[0m ws_qaoa_mes \u001b[39m=\u001b[39m QAOA( optimizer\u001b[39m=\u001b[39moptimizer, \n\u001b[0;32m    316\u001b[0m                     quantum_instance\u001b[39m=\u001b[39mquantum_instance, \n\u001b[0;32m    317\u001b[0m                     initial_state\u001b[39m=\u001b[39minit_qc,\n\u001b[1;32m   (...)\u001b[0m\n\u001b[0;32m    321\u001b[0m                     initial_point\u001b[39m=\u001b[39mparams, \n\u001b[0;32m    322\u001b[0m                     callback\u001b[39m=\u001b[39mstore_intermediate_result)\n\u001b[0;32m    324\u001b[0m ws_qaoa \u001b[39m=\u001b[39m MinimumEigenOptimizer(ws_qaoa_mes) \n\u001b[1;32m--> 325\u001b[0m \u001b[39mself\u001b[39m\u001b[39m.\u001b[39mws_qaoa_result \u001b[39m=\u001b[39m ws_qaoa\u001b[39m.\u001b[39;49msolve(qp)\n\u001b[0;32m    327\u001b[0m all_solutions \u001b[39m=\u001b[39m []\n\u001b[0;32m    328\u001b[0m \u001b[39mfor\u001b[39;00m i \u001b[39min\u001b[39;00m \u001b[39mrange\u001b[39m(\u001b[39mlen\u001b[39m(\u001b[39mself\u001b[39m\u001b[39m.\u001b[39mws_qaoa_result\u001b[39m.\u001b[39msamples)):\n",
      "File \u001b[1;32mc:\\Users\\ADMIN\\AppData\\Local\\Programs\\Python\\Python311\\Lib\\site-packages\\qiskit_optimization\\algorithms\\minimum_eigen_optimizer.py:205\u001b[0m, in \u001b[0;36mMinimumEigenOptimizer.solve\u001b[1;34m(self, problem)\u001b[0m\n\u001b[0;32m    202\u001b[0m \u001b[39m# construct operator and offset\u001b[39;00m\n\u001b[0;32m    203\u001b[0m operator, offset \u001b[39m=\u001b[39m problem_\u001b[39m.\u001b[39mto_ising()\n\u001b[1;32m--> 205\u001b[0m \u001b[39mreturn\u001b[39;00m \u001b[39mself\u001b[39;49m\u001b[39m.\u001b[39;49m_solve_internal(operator, offset, problem_, problem)\n",
      "File \u001b[1;32mc:\\Users\\ADMIN\\AppData\\Local\\Programs\\Python\\Python311\\Lib\\site-packages\\qiskit_optimization\\algorithms\\minimum_eigen_optimizer.py:218\u001b[0m, in \u001b[0;36mMinimumEigenOptimizer._solve_internal\u001b[1;34m(self, operator, offset, converted_problem, original_problem)\u001b[0m\n\u001b[0;32m    215\u001b[0m eigen_result: Optional[MinimumEigensolverResult] \u001b[39m=\u001b[39m \u001b[39mNone\u001b[39;00m\n\u001b[0;32m    216\u001b[0m \u001b[39mif\u001b[39;00m operator\u001b[39m.\u001b[39mnum_qubits \u001b[39m>\u001b[39m \u001b[39m0\u001b[39m:\n\u001b[0;32m    217\u001b[0m     \u001b[39m# approximate ground state of operator using min eigen solver\u001b[39;00m\n\u001b[1;32m--> 218\u001b[0m     eigen_result \u001b[39m=\u001b[39m \u001b[39mself\u001b[39;49m\u001b[39m.\u001b[39;49m_min_eigen_solver\u001b[39m.\u001b[39;49mcompute_minimum_eigenvalue(operator)\n\u001b[0;32m    219\u001b[0m     \u001b[39m# analyze results\u001b[39;00m\n\u001b[0;32m    220\u001b[0m     raw_samples \u001b[39m=\u001b[39m \u001b[39mNone\u001b[39;00m\n",
      "File \u001b[1;32mc:\\Users\\ADMIN\\AppData\\Local\\Programs\\Python\\Python311\\Lib\\site-packages\\qiskit\\algorithms\\minimum_eigen_solvers\\vqe.py:536\u001b[0m, in \u001b[0;36mVQE.compute_minimum_eigenvalue\u001b[1;34m(self, operator, aux_operators)\u001b[0m\n\u001b[0;32m    533\u001b[0m     gradient \u001b[39m=\u001b[39m \u001b[39mself\u001b[39m\u001b[39m.\u001b[39m_gradient\n\u001b[0;32m    535\u001b[0m \u001b[39mself\u001b[39m\u001b[39m.\u001b[39m_eval_count \u001b[39m=\u001b[39m \u001b[39m0\u001b[39m\n\u001b[1;32m--> 536\u001b[0m energy_evaluation, expectation \u001b[39m=\u001b[39m \u001b[39mself\u001b[39;49m\u001b[39m.\u001b[39;49mget_energy_evaluation(\n\u001b[0;32m    537\u001b[0m     operator, return_expectation\u001b[39m=\u001b[39;49m\u001b[39mTrue\u001b[39;49;00m\n\u001b[0;32m    538\u001b[0m )\n\u001b[0;32m    540\u001b[0m start_time \u001b[39m=\u001b[39m time()\n\u001b[0;32m    542\u001b[0m \u001b[39mif\u001b[39;00m \u001b[39mcallable\u001b[39m(\u001b[39mself\u001b[39m\u001b[39m.\u001b[39moptimizer):\n",
      "File \u001b[1;32mc:\\Users\\ADMIN\\AppData\\Local\\Programs\\Python\\Python311\\Lib\\site-packages\\qiskit\\algorithms\\minimum_eigen_solvers\\vqe.py:613\u001b[0m, in \u001b[0;36mVQE.get_energy_evaluation\u001b[1;34m(self, operator, return_expectation)\u001b[0m\n\u001b[0;32m    610\u001b[0m     \u001b[39mraise\u001b[39;00m \u001b[39mRuntimeError\u001b[39;00m(\u001b[39m\"\u001b[39m\u001b[39mThe ansatz must be parameterized, but has 0 free parameters.\u001b[39m\u001b[39m\"\u001b[39m)\n\u001b[0;32m    612\u001b[0m ansatz_params \u001b[39m=\u001b[39m \u001b[39mself\u001b[39m\u001b[39m.\u001b[39mansatz\u001b[39m.\u001b[39mparameters\n\u001b[1;32m--> 613\u001b[0m expect_op, expectation \u001b[39m=\u001b[39m \u001b[39mself\u001b[39;49m\u001b[39m.\u001b[39;49mconstruct_expectation(\n\u001b[0;32m    614\u001b[0m     ansatz_params, operator, return_expectation\u001b[39m=\u001b[39;49m\u001b[39mTrue\u001b[39;49;00m\n\u001b[0;32m    615\u001b[0m )\n\u001b[0;32m    617\u001b[0m \u001b[39mdef\u001b[39;00m \u001b[39menergy_evaluation\u001b[39m(parameters):\n\u001b[0;32m    618\u001b[0m     parameter_sets \u001b[39m=\u001b[39m np\u001b[39m.\u001b[39mreshape(parameters, (\u001b[39m-\u001b[39m\u001b[39m1\u001b[39m, num_parameters))\n",
      "File \u001b[1;32mc:\\Users\\ADMIN\\AppData\\Local\\Programs\\Python\\Python311\\Lib\\site-packages\\qiskit\\algorithms\\minimum_eigen_solvers\\vqe.py:431\u001b[0m, in \u001b[0;36mVQE.construct_expectation\u001b[1;34m(self, parameter, operator, return_expectation)\u001b[0m\n\u001b[0;32m    429\u001b[0m \u001b[39m# if expectation was never created, try to create one\u001b[39;00m\n\u001b[0;32m    430\u001b[0m \u001b[39mif\u001b[39;00m \u001b[39mself\u001b[39m\u001b[39m.\u001b[39mexpectation \u001b[39mis\u001b[39;00m \u001b[39mNone\u001b[39;00m:\n\u001b[1;32m--> 431\u001b[0m     expectation \u001b[39m=\u001b[39m ExpectationFactory\u001b[39m.\u001b[39;49mbuild(\n\u001b[0;32m    432\u001b[0m         operator\u001b[39m=\u001b[39;49moperator,\n\u001b[0;32m    433\u001b[0m         backend\u001b[39m=\u001b[39;49m\u001b[39mself\u001b[39;49m\u001b[39m.\u001b[39;49mquantum_instance,\n\u001b[0;32m    434\u001b[0m         include_custom\u001b[39m=\u001b[39;49m\u001b[39mself\u001b[39;49m\u001b[39m.\u001b[39;49m_include_custom,\n\u001b[0;32m    435\u001b[0m     )\n\u001b[0;32m    436\u001b[0m \u001b[39melse\u001b[39;00m:\n\u001b[0;32m    437\u001b[0m     expectation \u001b[39m=\u001b[39m \u001b[39mself\u001b[39m\u001b[39m.\u001b[39mexpectation\n",
      "File \u001b[1;32mc:\\Users\\ADMIN\\AppData\\Local\\Programs\\Python\\Python311\\Lib\\site-packages\\qiskit\\utils\\deprecation.py:96\u001b[0m, in \u001b[0;36mdeprecate_func.<locals>.decorator.<locals>.wrapper\u001b[1;34m(*args, **kwargs)\u001b[0m\n\u001b[0;32m     93\u001b[0m \u001b[39m@functools\u001b[39m\u001b[39m.\u001b[39mwraps(func)\n\u001b[0;32m     94\u001b[0m \u001b[39mdef\u001b[39;00m \u001b[39mwrapper\u001b[39m(\u001b[39m*\u001b[39margs, \u001b[39m*\u001b[39m\u001b[39m*\u001b[39mkwargs):\n\u001b[0;32m     95\u001b[0m     warnings\u001b[39m.\u001b[39mwarn(msg, category\u001b[39m=\u001b[39mcategory, stacklevel\u001b[39m=\u001b[39m\u001b[39m2\u001b[39m)\n\u001b[1;32m---> 96\u001b[0m     \u001b[39mreturn\u001b[39;00m func(\u001b[39m*\u001b[39;49margs, \u001b[39m*\u001b[39;49m\u001b[39m*\u001b[39;49mkwargs)\n",
      "File \u001b[1;32mc:\\Users\\ADMIN\\AppData\\Local\\Programs\\Python\\Python311\\Lib\\site-packages\\qiskit\\opflow\\expectations\\expectation_factory.py:73\u001b[0m, in \u001b[0;36mExpectationFactory.build\u001b[1;34m(operator, backend, include_custom)\u001b[0m\n\u001b[0;32m     70\u001b[0m backend_to_check \u001b[39m=\u001b[39m backend\u001b[39m.\u001b[39mbackend \u001b[39mif\u001b[39;00m \u001b[39misinstance\u001b[39m(backend, QuantumInstance) \u001b[39melse\u001b[39;00m backend\n\u001b[0;32m     72\u001b[0m \u001b[39m# pylint: disable=cyclic-import\u001b[39;00m\n\u001b[1;32m---> 73\u001b[0m primitives \u001b[39m=\u001b[39m operator\u001b[39m.\u001b[39;49mprimitive_strings()\n\u001b[0;32m     74\u001b[0m \u001b[39mif\u001b[39;00m primitives \u001b[39min\u001b[39;00m ({\u001b[39m\"\u001b[39m\u001b[39mPauli\u001b[39m\u001b[39m\"\u001b[39m}, {\u001b[39m\"\u001b[39m\u001b[39mSparsePauliOp\u001b[39m\u001b[39m\"\u001b[39m}):\n\u001b[0;32m     76\u001b[0m     \u001b[39mif\u001b[39;00m backend_to_check \u001b[39mis\u001b[39;00m \u001b[39mNone\u001b[39;00m:\n\u001b[0;32m     77\u001b[0m         \u001b[39m# If user has Aer but didn't specify a backend, use the Aer fast expectation\u001b[39;00m\n",
      "\u001b[1;31mAttributeError\u001b[0m: 'SparsePauliOp' object has no attribute 'primitive_strings'"
     ]
    }
   ],
   "source": [
    "import importlib\n",
    "import numpy as np\n",
    "\n",
    "import QAOA.sources.KnapsackWSQAOA_Qiskit\n",
    "importlib.reload(QAOA.sources.KnapsackWSQAOA_Qiskit)\n",
    "from QAOA.sources.KnapsackWSQAOA_Qiskit import WSQAOASolver\n",
    "\n",
    "import warnings\n",
    "warnings.filterwarnings('ignore')\n",
    "\n",
    "\n",
    "total_iterations  = 1000\n",
    "n_shots           = 10000\n",
    "num_layers        = 3\n",
    "formulation       = 'Binary'\n",
    "\n",
    "\n",
    "init_params       = (np.pi/2*np.random.rand(1,2)).tolist()[0]\n",
    "single_penalty    = int(2*np.max(article_reward))\n",
    "capacity_penalty  = int(2*np.max(article_reward))\n",
    "epsilon           = 0.25\n",
    "mixer_hamiltonian = 'WS-Mixer'\n",
    "\n",
    "\n",
    "\n",
    "init_params=(np.pi/2*np.random.rand(1,2)).tolist()[0]\n",
    "\n",
    "formulation = 'Binary'\n",
    "qaoa = WSQAOASolver(article_reward, article_weight, knapsack_capacity, formulation,\n",
    "                  single_penalty, capacity_penalty, objective_weight,num_layers,\n",
    "                  epsilon)\n",
    "                \n",
    "print('WS-QAOA in progress...')\n",
    "print('Number of qubits', len(qaoa.variables))\n",
    "all_solutions, samples, runtime, classical_iterations = qaoa.solve_qaoa_knapsack(mixer_hamiltonian, init_params, total_iterations, num_layers, n_shots)\n",
    "\n"
   ]
  },
  {
   "attachments": {},
   "cell_type": "markdown",
   "id": "cc62889b",
   "metadata": {},
   "source": [
    "## Warm-start QAOA with Pauli-X Hamiltonian\n",
    "\n",
    "We also benchmark a variant of warm-start QAOA (WS-QAOA), where in, a Pauli-X mixer Hamiltonian is used instead of the proposed mixer Hamiltonian in https://arxiv.org/abs/2009.10095. The idea of this variation was to check the effect of the mixer Hamiltonian on the fianl solution, on top of warm-started initial state of the quantum circuit."
   ]
  },
  {
   "cell_type": "code",
   "execution_count": null,
   "id": "c948a0af",
   "metadata": {},
   "outputs": [
    {
     "name": "stdout",
     "output_type": "stream",
     "text": [
      "Set parameter NonConvex to value 2\n",
      "Gurobi Optimizer version 11.0.0 build v11.0.0rc2 (win64 - Windows 10.0 (19045.2))\n",
      "\n",
      "CPU model: Intel(R) Core(TM) i5-7200U CPU @ 2.50GHz, instruction set [SSE2|AVX|AVX2]\n",
      "Thread count: 2 physical cores, 4 logical processors, using up to 4 threads\n",
      "\n",
      "Optimize a model with 0 rows, 14 columns and 0 nonzeros\n",
      "Model fingerprint: 0x2b40e15c\n",
      "Model has 60 quadratic objective terms\n",
      "Coefficient statistics:\n",
      "  Matrix range     [0e+00, 0e+00]\n",
      "  Objective range  [1e+02, 4e+02]\n",
      "  QObjective range [2e+01, 5e+02]\n",
      "  Bounds range     [1e+00, 1e+00]\n",
      "  RHS range        [0e+00, 0e+00]\n",
      "Presolve time: 0.02s\n",
      "Presolved: 0 rows, 14 columns, 0 nonzeros\n",
      "Presolved model has 60 quadratic objective terms\n",
      "Ordering time: 0.00s\n",
      "\n",
      "Barrier statistics:\n",
      " Free vars  : 6\n",
      " AA' NZ     : 1.400e+01\n",
      " Factor NZ  : 2.100e+01\n",
      " Factor Ops : 9.100e+01 (less than 1 second per iteration)\n",
      " Threads    : 1\n",
      "\n",
      "                  Objective                Residual\n",
      "Iter       Primal          Dual         Primal    Dual     Compl     Time\n",
      "   0  -4.10150004e+06 -7.85251000e+05  5.60e+03 4.38e-07  1.00e+06     0s\n",
      "   1  -4.92995556e+03 -7.84020884e+05  7.05e+00 5.51e-10  1.69e+03     0s\n",
      "   2   5.07302628e+01 -4.23103428e+05  7.05e-06 3.41e-13  2.36e+02     0s\n",
      "   3   4.81776620e+01 -9.56791708e+02  7.59e-09 1.92e-13  5.61e-01     0s\n",
      "   4  -1.56632330e+01 -5.43287148e+01  3.98e-11 1.67e-15  2.16e-02     0s\n",
      "   5  -1.69244280e+01 -1.99236553e+01  1.77e-12 4.44e-16  1.67e-03     0s\n",
      "   6  -1.81136842e+01 -1.85105567e+01  7.93e-14 8.54e-16  2.21e-04     0s\n",
      "   7  -1.82981346e+01 -1.83219181e+01  3.77e-15 1.72e-16  1.33e-05     0s\n",
      "   8  -1.82999978e+01 -1.83000233e+01  9.99e-16 9.44e-16  1.42e-08     0s\n",
      "   9  -1.83000000e+01 -1.83000000e+01  6.66e-16 2.40e-16  1.42e-11     0s\n",
      "\n",
      "Barrier solved model in 9 iterations and 0.05 seconds (0.00 work units)\n",
      "Optimal objective -1.83000000e+01\n",
      "\n",
      "WS-QAOA in progress...\n",
      "Number of qubits 14\n"
     ]
    },
    {
     "ename": "AttributeError",
     "evalue": "'SparsePauliOp' object has no attribute 'primitive_strings'",
     "output_type": "error",
     "traceback": [
      "\u001b[1;31m---------------------------------------------------------------------------\u001b[0m",
      "\u001b[1;31mAttributeError\u001b[0m                            Traceback (most recent call last)",
      "\u001b[1;32mc:\\Users\\ADMIN\\Desktop\\IIT Mandi\\Inter-IIT Tech\\Quantum Computing - Mphasis\\Code\\Knapsack-main\\Knapsack-main\\Knapsack_Full_Notebook.ipynb Cell 20\u001b[0m line \u001b[0;36m3\n\u001b[0;32m     <a href='vscode-notebook-cell:/c%3A/Users/ADMIN/Desktop/IIT%20Mandi/Inter-IIT%20Tech/Quantum%20Computing%20-%20Mphasis/Code/Knapsack-main/Knapsack-main/Knapsack_Full_Notebook.ipynb#X16sZmlsZQ%3D%3D?line=29'>30</a>\u001b[0m \u001b[39mprint\u001b[39m(\u001b[39m'\u001b[39m\u001b[39mWS-QAOA in progress...\u001b[39m\u001b[39m'\u001b[39m)                \n\u001b[0;32m     <a href='vscode-notebook-cell:/c%3A/Users/ADMIN/Desktop/IIT%20Mandi/Inter-IIT%20Tech/Quantum%20Computing%20-%20Mphasis/Code/Knapsack-main/Knapsack-main/Knapsack_Full_Notebook.ipynb#X16sZmlsZQ%3D%3D?line=30'>31</a>\u001b[0m \u001b[39mprint\u001b[39m(\u001b[39m'\u001b[39m\u001b[39mNumber of qubits\u001b[39m\u001b[39m'\u001b[39m, \u001b[39mlen\u001b[39m(qaoa\u001b[39m.\u001b[39mvariables))\n\u001b[1;32m---> <a href='vscode-notebook-cell:/c%3A/Users/ADMIN/Desktop/IIT%20Mandi/Inter-IIT%20Tech/Quantum%20Computing%20-%20Mphasis/Code/Knapsack-main/Knapsack-main/Knapsack_Full_Notebook.ipynb#X16sZmlsZQ%3D%3D?line=31'>32</a>\u001b[0m all_solutions, samples, runtime, classical_iterations \u001b[39m=\u001b[39m qaoa\u001b[39m.\u001b[39;49msolve_qaoa_knapsack(mixer_hamiltonian, init_params, total_iterations, num_layers, n_shots)\n",
      "File \u001b[1;32mc:\\Users\\ADMIN\\Desktop\\IIT Mandi\\Inter-IIT Tech\\Quantum Computing - Mphasis\\Code\\Knapsack-main\\Knapsack-main\\QAOA\\sources\\KnapsackWSQAOA_Qiskit.py:325\u001b[0m, in \u001b[0;36mWSQAOASolver.solve_qaoa_knapsack\u001b[1;34m(self, mixer_hamiltonian, initial_params, total_iterations, num_layers, nshots)\u001b[0m\n\u001b[0;32m    315\u001b[0m ws_qaoa_mes \u001b[39m=\u001b[39m QAOA( optimizer\u001b[39m=\u001b[39moptimizer, \n\u001b[0;32m    316\u001b[0m                     quantum_instance\u001b[39m=\u001b[39mquantum_instance, \n\u001b[0;32m    317\u001b[0m                     initial_state\u001b[39m=\u001b[39minit_qc,\n\u001b[1;32m   (...)\u001b[0m\n\u001b[0;32m    321\u001b[0m                     initial_point\u001b[39m=\u001b[39mparams, \n\u001b[0;32m    322\u001b[0m                     callback\u001b[39m=\u001b[39mstore_intermediate_result)\n\u001b[0;32m    324\u001b[0m ws_qaoa \u001b[39m=\u001b[39m MinimumEigenOptimizer(ws_qaoa_mes) \n\u001b[1;32m--> 325\u001b[0m \u001b[39mself\u001b[39m\u001b[39m.\u001b[39mws_qaoa_result \u001b[39m=\u001b[39m ws_qaoa\u001b[39m.\u001b[39;49msolve(qp)\n\u001b[0;32m    327\u001b[0m all_solutions \u001b[39m=\u001b[39m []\n\u001b[0;32m    328\u001b[0m \u001b[39mfor\u001b[39;00m i \u001b[39min\u001b[39;00m \u001b[39mrange\u001b[39m(\u001b[39mlen\u001b[39m(\u001b[39mself\u001b[39m\u001b[39m.\u001b[39mws_qaoa_result\u001b[39m.\u001b[39msamples)):\n",
      "File \u001b[1;32mc:\\Users\\ADMIN\\AppData\\Local\\Programs\\Python\\Python311\\Lib\\site-packages\\qiskit_optimization\\algorithms\\minimum_eigen_optimizer.py:205\u001b[0m, in \u001b[0;36mMinimumEigenOptimizer.solve\u001b[1;34m(self, problem)\u001b[0m\n\u001b[0;32m    202\u001b[0m \u001b[39m# construct operator and offset\u001b[39;00m\n\u001b[0;32m    203\u001b[0m operator, offset \u001b[39m=\u001b[39m problem_\u001b[39m.\u001b[39mto_ising()\n\u001b[1;32m--> 205\u001b[0m \u001b[39mreturn\u001b[39;00m \u001b[39mself\u001b[39;49m\u001b[39m.\u001b[39;49m_solve_internal(operator, offset, problem_, problem)\n",
      "File \u001b[1;32mc:\\Users\\ADMIN\\AppData\\Local\\Programs\\Python\\Python311\\Lib\\site-packages\\qiskit_optimization\\algorithms\\minimum_eigen_optimizer.py:218\u001b[0m, in \u001b[0;36mMinimumEigenOptimizer._solve_internal\u001b[1;34m(self, operator, offset, converted_problem, original_problem)\u001b[0m\n\u001b[0;32m    215\u001b[0m eigen_result: Optional[MinimumEigensolverResult] \u001b[39m=\u001b[39m \u001b[39mNone\u001b[39;00m\n\u001b[0;32m    216\u001b[0m \u001b[39mif\u001b[39;00m operator\u001b[39m.\u001b[39mnum_qubits \u001b[39m>\u001b[39m \u001b[39m0\u001b[39m:\n\u001b[0;32m    217\u001b[0m     \u001b[39m# approximate ground state of operator using min eigen solver\u001b[39;00m\n\u001b[1;32m--> 218\u001b[0m     eigen_result \u001b[39m=\u001b[39m \u001b[39mself\u001b[39;49m\u001b[39m.\u001b[39;49m_min_eigen_solver\u001b[39m.\u001b[39;49mcompute_minimum_eigenvalue(operator)\n\u001b[0;32m    219\u001b[0m     \u001b[39m# analyze results\u001b[39;00m\n\u001b[0;32m    220\u001b[0m     raw_samples \u001b[39m=\u001b[39m \u001b[39mNone\u001b[39;00m\n",
      "File \u001b[1;32mc:\\Users\\ADMIN\\AppData\\Local\\Programs\\Python\\Python311\\Lib\\site-packages\\qiskit\\algorithms\\minimum_eigen_solvers\\vqe.py:536\u001b[0m, in \u001b[0;36mVQE.compute_minimum_eigenvalue\u001b[1;34m(self, operator, aux_operators)\u001b[0m\n\u001b[0;32m    533\u001b[0m     gradient \u001b[39m=\u001b[39m \u001b[39mself\u001b[39m\u001b[39m.\u001b[39m_gradient\n\u001b[0;32m    535\u001b[0m \u001b[39mself\u001b[39m\u001b[39m.\u001b[39m_eval_count \u001b[39m=\u001b[39m \u001b[39m0\u001b[39m\n\u001b[1;32m--> 536\u001b[0m energy_evaluation, expectation \u001b[39m=\u001b[39m \u001b[39mself\u001b[39;49m\u001b[39m.\u001b[39;49mget_energy_evaluation(\n\u001b[0;32m    537\u001b[0m     operator, return_expectation\u001b[39m=\u001b[39;49m\u001b[39mTrue\u001b[39;49;00m\n\u001b[0;32m    538\u001b[0m )\n\u001b[0;32m    540\u001b[0m start_time \u001b[39m=\u001b[39m time()\n\u001b[0;32m    542\u001b[0m \u001b[39mif\u001b[39;00m \u001b[39mcallable\u001b[39m(\u001b[39mself\u001b[39m\u001b[39m.\u001b[39moptimizer):\n",
      "File \u001b[1;32mc:\\Users\\ADMIN\\AppData\\Local\\Programs\\Python\\Python311\\Lib\\site-packages\\qiskit\\algorithms\\minimum_eigen_solvers\\vqe.py:613\u001b[0m, in \u001b[0;36mVQE.get_energy_evaluation\u001b[1;34m(self, operator, return_expectation)\u001b[0m\n\u001b[0;32m    610\u001b[0m     \u001b[39mraise\u001b[39;00m \u001b[39mRuntimeError\u001b[39;00m(\u001b[39m\"\u001b[39m\u001b[39mThe ansatz must be parameterized, but has 0 free parameters.\u001b[39m\u001b[39m\"\u001b[39m)\n\u001b[0;32m    612\u001b[0m ansatz_params \u001b[39m=\u001b[39m \u001b[39mself\u001b[39m\u001b[39m.\u001b[39mansatz\u001b[39m.\u001b[39mparameters\n\u001b[1;32m--> 613\u001b[0m expect_op, expectation \u001b[39m=\u001b[39m \u001b[39mself\u001b[39;49m\u001b[39m.\u001b[39;49mconstruct_expectation(\n\u001b[0;32m    614\u001b[0m     ansatz_params, operator, return_expectation\u001b[39m=\u001b[39;49m\u001b[39mTrue\u001b[39;49;00m\n\u001b[0;32m    615\u001b[0m )\n\u001b[0;32m    617\u001b[0m \u001b[39mdef\u001b[39;00m \u001b[39menergy_evaluation\u001b[39m(parameters):\n\u001b[0;32m    618\u001b[0m     parameter_sets \u001b[39m=\u001b[39m np\u001b[39m.\u001b[39mreshape(parameters, (\u001b[39m-\u001b[39m\u001b[39m1\u001b[39m, num_parameters))\n",
      "File \u001b[1;32mc:\\Users\\ADMIN\\AppData\\Local\\Programs\\Python\\Python311\\Lib\\site-packages\\qiskit\\algorithms\\minimum_eigen_solvers\\vqe.py:431\u001b[0m, in \u001b[0;36mVQE.construct_expectation\u001b[1;34m(self, parameter, operator, return_expectation)\u001b[0m\n\u001b[0;32m    429\u001b[0m \u001b[39m# if expectation was never created, try to create one\u001b[39;00m\n\u001b[0;32m    430\u001b[0m \u001b[39mif\u001b[39;00m \u001b[39mself\u001b[39m\u001b[39m.\u001b[39mexpectation \u001b[39mis\u001b[39;00m \u001b[39mNone\u001b[39;00m:\n\u001b[1;32m--> 431\u001b[0m     expectation \u001b[39m=\u001b[39m ExpectationFactory\u001b[39m.\u001b[39;49mbuild(\n\u001b[0;32m    432\u001b[0m         operator\u001b[39m=\u001b[39;49moperator,\n\u001b[0;32m    433\u001b[0m         backend\u001b[39m=\u001b[39;49m\u001b[39mself\u001b[39;49m\u001b[39m.\u001b[39;49mquantum_instance,\n\u001b[0;32m    434\u001b[0m         include_custom\u001b[39m=\u001b[39;49m\u001b[39mself\u001b[39;49m\u001b[39m.\u001b[39;49m_include_custom,\n\u001b[0;32m    435\u001b[0m     )\n\u001b[0;32m    436\u001b[0m \u001b[39melse\u001b[39;00m:\n\u001b[0;32m    437\u001b[0m     expectation \u001b[39m=\u001b[39m \u001b[39mself\u001b[39m\u001b[39m.\u001b[39mexpectation\n",
      "File \u001b[1;32mc:\\Users\\ADMIN\\AppData\\Local\\Programs\\Python\\Python311\\Lib\\site-packages\\qiskit\\utils\\deprecation.py:96\u001b[0m, in \u001b[0;36mdeprecate_func.<locals>.decorator.<locals>.wrapper\u001b[1;34m(*args, **kwargs)\u001b[0m\n\u001b[0;32m     93\u001b[0m \u001b[39m@functools\u001b[39m\u001b[39m.\u001b[39mwraps(func)\n\u001b[0;32m     94\u001b[0m \u001b[39mdef\u001b[39;00m \u001b[39mwrapper\u001b[39m(\u001b[39m*\u001b[39margs, \u001b[39m*\u001b[39m\u001b[39m*\u001b[39mkwargs):\n\u001b[0;32m     95\u001b[0m     warnings\u001b[39m.\u001b[39mwarn(msg, category\u001b[39m=\u001b[39mcategory, stacklevel\u001b[39m=\u001b[39m\u001b[39m2\u001b[39m)\n\u001b[1;32m---> 96\u001b[0m     \u001b[39mreturn\u001b[39;00m func(\u001b[39m*\u001b[39;49margs, \u001b[39m*\u001b[39;49m\u001b[39m*\u001b[39;49mkwargs)\n",
      "File \u001b[1;32mc:\\Users\\ADMIN\\AppData\\Local\\Programs\\Python\\Python311\\Lib\\site-packages\\qiskit\\opflow\\expectations\\expectation_factory.py:73\u001b[0m, in \u001b[0;36mExpectationFactory.build\u001b[1;34m(operator, backend, include_custom)\u001b[0m\n\u001b[0;32m     70\u001b[0m backend_to_check \u001b[39m=\u001b[39m backend\u001b[39m.\u001b[39mbackend \u001b[39mif\u001b[39;00m \u001b[39misinstance\u001b[39m(backend, QuantumInstance) \u001b[39melse\u001b[39;00m backend\n\u001b[0;32m     72\u001b[0m \u001b[39m# pylint: disable=cyclic-import\u001b[39;00m\n\u001b[1;32m---> 73\u001b[0m primitives \u001b[39m=\u001b[39m operator\u001b[39m.\u001b[39;49mprimitive_strings()\n\u001b[0;32m     74\u001b[0m \u001b[39mif\u001b[39;00m primitives \u001b[39min\u001b[39;00m ({\u001b[39m\"\u001b[39m\u001b[39mPauli\u001b[39m\u001b[39m\"\u001b[39m}, {\u001b[39m\"\u001b[39m\u001b[39mSparsePauliOp\u001b[39m\u001b[39m\"\u001b[39m}):\n\u001b[0;32m     76\u001b[0m     \u001b[39mif\u001b[39;00m backend_to_check \u001b[39mis\u001b[39;00m \u001b[39mNone\u001b[39;00m:\n\u001b[0;32m     77\u001b[0m         \u001b[39m# If user has Aer but didn't specify a backend, use the Aer fast expectation\u001b[39;00m\n",
      "\u001b[1;31mAttributeError\u001b[0m: 'SparsePauliOp' object has no attribute 'primitive_strings'"
     ]
    }
   ],
   "source": [
    "import importlib\n",
    "import numpy as np\n",
    "\n",
    "import QAOA.sources.KnapsackWSQAOA_Qiskit\n",
    "importlib.reload(QAOA.sources.KnapsackWSQAOA_Qiskit)\n",
    "from QAOA.sources.KnapsackWSQAOA_Qiskit import WSQAOASolver\n",
    "\n",
    "import warnings\n",
    "warnings.filterwarnings('ignore')\n",
    "\n",
    "\n",
    "total_iterations  = 1000\n",
    "n_shots           = 10000\n",
    "num_layers        = 3\n",
    "formulation       = 'Binary'\n",
    "\n",
    "init_params       = (np.pi/2*np.random.rand(1,2)).tolist()[0]\n",
    "single_penalty    = int(2*np.max(article_reward))\n",
    "capacity_penalty  = int(2*np.max(article_reward))\n",
    "epsilon           = 0.25\n",
    "mixer_hamiltonian = 'Pauli-X'\n",
    "\n",
    "init_params=(np.pi/2*np.random.rand(1,2)).tolist()[0]\n",
    "\n",
    "formulation = 'Binary'\n",
    "\n",
    "qaoa = WSQAOASolver(article_reward, article_weight, knapsack_capacity, formulation,\n",
    "                  single_penalty, capacity_penalty, objective_weight,num_layers,\n",
    "                  epsilon)\n",
    "print('WS-QAOA in progress...')                \n",
    "print('Number of qubits', len(qaoa.variables))\n",
    "all_solutions, samples, runtime, classical_iterations = qaoa.solve_qaoa_knapsack(mixer_hamiltonian, init_params, total_iterations, num_layers, n_shots)\n",
    "\n"
   ]
  },
  {
   "attachments": {},
   "cell_type": "markdown",
   "id": "f8361a7c",
   "metadata": {},
   "source": [
    "# Variational Quantum Eigensolver (VQE)\n",
    "\n",
    "Another circuit model algorithm which we benchmark the Variational Quantum Eigensolver. The circuit ansatz used in our implementation has been adopted from https://arxiv.org/pdf/2102.05566.pdf. "
   ]
  },
  {
   "cell_type": "code",
   "execution_count": null,
   "id": "91113d4a",
   "metadata": {},
   "outputs": [
    {
     "name": "stdout",
     "output_type": "stream",
     "text": [
      "VQE best solution:  000100001110\n",
      "VQE best energy:  -9.0\n",
      "Opt. iterations: 771 \n",
      "\n",
      "\n"
     ]
    }
   ],
   "source": [
    "import importlib\n",
    "\n",
    "import VQE.VQE\n",
    "importlib.reload(VQE.VQE)\n",
    "from VQE.VQE import solve_VQE, VQE_circuit\n",
    "\n",
    "from Data.QUBO_builder import build_QUBO\n",
    "\n",
    "from qiskit import Aer, circuit\n",
    "backend = Aer.get_backend(\"aer_simulator\")\n",
    "\n",
    "# build QUBO matrix for scnenario number 1\n",
    "Q,offset = build_QUBO(scenario_no=1)\n",
    "\n",
    "# solve QUBO problem with VQE\n",
    "results = solve_VQE(backend=backend, Q=Q, offset=offset, num_layers=1)"
   ]
  },
  {
   "cell_type": "code",
   "execution_count": null,
   "id": "f412b8ec",
   "metadata": {},
   "outputs": [
    {
     "data": {
      "text/html": [
       "<pre style=\"word-wrap: normal;white-space: pre;background: #fff0;line-height: 1.1;font-family: &quot;Courier New&quot;,Courier,monospace\">     ┌─────────┐ ░      ┌─────────┐     ┌─────────┐                     »\n",
       "q_0: ┤ Ry(θ_0) ├─░───■──┤ Ry(θ_4) ├──■──┤ Ry(θ_6) ├─────────────────────»\n",
       "     ├─────────┤ ░ ┌─┴─┐├─────────┤┌─┴─┐├─────────┤     ┌─────────┐     »\n",
       "q_1: ┤ Ry(θ_1) ├─░─┤ X ├┤ Ry(θ_5) ├┤ X ├┤ Ry(θ_7) ├──■──┤ Ry(θ_8) ├──■──»\n",
       "     ├─────────┤ ░ └───┘└─────────┘└───┘└─────────┘┌─┴─┐├─────────┤┌─┴─┐»\n",
       "q_2: ┤ Ry(θ_2) ├─░─────────────────────────────────┤ X ├┤ Ry(θ_9) ├┤ X ├»\n",
       "     ├─────────┤ ░                                 └───┘└─────────┘└───┘»\n",
       "q_3: ┤ Ry(θ_3) ├─░──────────────────────────────────────────────────────»\n",
       "     └─────────┘ ░                                                      »\n",
       "c: 4/═══════════════════════════════════════════════════════════════════»\n",
       "                                                                        »\n",
       "«                                                    ░      ┌──────────┐     »\n",
       "«q_0: ───────────────────────────────────────────────░───■──┤ Ry(θ_16) ├──■──»\n",
       "«     ┌──────────┐                                   ░ ┌─┴─┐├──────────┤┌─┴─┐»\n",
       "«q_1: ┤ Ry(θ_10) ├───────────────────────────────────░─┤ X ├┤ Ry(θ_17) ├┤ X ├»\n",
       "«     ├──────────┤     ┌──────────┐     ┌──────────┐ ░ └───┘└──────────┘└───┘»\n",
       "«q_2: ┤ Ry(θ_11) ├──■──┤ Ry(θ_12) ├──■──┤ Ry(θ_14) ├─░───────────────────────»\n",
       "«     └──────────┘┌─┴─┐├──────────┤┌─┴─┐├──────────┤ ░                       »\n",
       "«q_3: ────────────┤ X ├┤ Ry(θ_13) ├┤ X ├┤ Ry(θ_15) ├─░───────────────────────»\n",
       "«                 └───┘└──────────┘└───┘└──────────┘ ░                       »\n",
       "«c: 4/═══════════════════════════════════════════════════════════════════════»\n",
       "«                                                                            »\n",
       "«     ┌──────────┐                                                        »\n",
       "«q_0: ┤ Ry(θ_18) ├────────────────────────────────────────────────────────»\n",
       "«     ├──────────┤     ┌──────────┐     ┌──────────┐                      »\n",
       "«q_1: ┤ Ry(θ_19) ├──■──┤ Ry(θ_20) ├──■──┤ Ry(θ_22) ├──────────────────────»\n",
       "«     └──────────┘┌─┴─┐├──────────┤┌─┴─┐├──────────┤     ┌──────────┐     »\n",
       "«q_2: ────────────┤ X ├┤ Ry(θ_21) ├┤ X ├┤ Ry(θ_23) ├──■──┤ Ry(θ_24) ├──■──»\n",
       "«                 └───┘└──────────┘└───┘└──────────┘┌─┴─┐├──────────┤┌─┴─┐»\n",
       "«q_3: ──────────────────────────────────────────────┤ X ├┤ Ry(θ_25) ├┤ X ├»\n",
       "«                                                   └───┘└──────────┘└───┘»\n",
       "«c: 4/════════════════════════════════════════════════════════════════════»\n",
       "«                                                                         »\n",
       "«                  ░ \n",
       "«q_0: ─────────────░─\n",
       "«                  ░ \n",
       "«q_1: ─────────────░─\n",
       "«     ┌──────────┐ ░ \n",
       "«q_2: ┤ Ry(θ_26) ├─░─\n",
       "«     ├──────────┤ ░ \n",
       "«q_3: ┤ Ry(θ_27) ├─░─\n",
       "«     └──────────┘ ░ \n",
       "«c: 4/═══════════════\n",
       "«                    </pre>"
      ],
      "text/plain": [
       "     ┌─────────┐ ░      ┌─────────┐     ┌─────────┐                     »\n",
       "q_0: ┤ Ry(θ_0) ├─░───■──┤ Ry(θ_4) ├──■──┤ Ry(θ_6) ├─────────────────────»\n",
       "     ├─────────┤ ░ ┌─┴─┐├─────────┤┌─┴─┐├─────────┤     ┌─────────┐     »\n",
       "q_1: ┤ Ry(θ_1) ├─░─┤ X ├┤ Ry(θ_5) ├┤ X ├┤ Ry(θ_7) ├──■──┤ Ry(θ_8) ├──■──»\n",
       "     ├─────────┤ ░ └───┘└─────────┘└───┘└─────────┘┌─┴─┐├─────────┤┌─┴─┐»\n",
       "q_2: ┤ Ry(θ_2) ├─░─────────────────────────────────┤ X ├┤ Ry(θ_9) ├┤ X ├»\n",
       "     ├─────────┤ ░                                 └───┘└─────────┘└───┘»\n",
       "q_3: ┤ Ry(θ_3) ├─░──────────────────────────────────────────────────────»\n",
       "     └─────────┘ ░                                                      »\n",
       "c: 4/═══════════════════════════════════════════════════════════════════»\n",
       "                                                                        »\n",
       "«                                                    ░      ┌──────────┐     »\n",
       "«q_0: ───────────────────────────────────────────────░───■──┤ Ry(θ_16) ├──■──»\n",
       "«     ┌──────────┐                                   ░ ┌─┴─┐├──────────┤┌─┴─┐»\n",
       "«q_1: ┤ Ry(θ_10) ├───────────────────────────────────░─┤ X ├┤ Ry(θ_17) ├┤ X ├»\n",
       "«     ├──────────┤     ┌──────────┐     ┌──────────┐ ░ └───┘└──────────┘└───┘»\n",
       "«q_2: ┤ Ry(θ_11) ├──■──┤ Ry(θ_12) ├──■──┤ Ry(θ_14) ├─░───────────────────────»\n",
       "«     └──────────┘┌─┴─┐├──────────┤┌─┴─┐├──────────┤ ░                       »\n",
       "«q_3: ────────────┤ X ├┤ Ry(θ_13) ├┤ X ├┤ Ry(θ_15) ├─░───────────────────────»\n",
       "«                 └───┘└──────────┘└───┘└──────────┘ ░                       »\n",
       "«c: 4/═══════════════════════════════════════════════════════════════════════»\n",
       "«                                                                            »\n",
       "«     ┌──────────┐                                                        »\n",
       "«q_0: ┤ Ry(θ_18) ├────────────────────────────────────────────────────────»\n",
       "«     ├──────────┤     ┌──────────┐     ┌──────────┐                      »\n",
       "«q_1: ┤ Ry(θ_19) ├──■──┤ Ry(θ_20) ├──■──┤ Ry(θ_22) ├──────────────────────»\n",
       "«     └──────────┘┌─┴─┐├──────────┤┌─┴─┐├──────────┤     ┌──────────┐     »\n",
       "«q_2: ────────────┤ X ├┤ Ry(θ_21) ├┤ X ├┤ Ry(θ_23) ├──■──┤ Ry(θ_24) ├──■──»\n",
       "«                 └───┘└──────────┘└───┘└──────────┘┌─┴─┐├──────────┤┌─┴─┐»\n",
       "«q_3: ──────────────────────────────────────────────┤ X ├┤ Ry(θ_25) ├┤ X ├»\n",
       "«                                                   └───┘└──────────┘└───┘»\n",
       "«c: 4/════════════════════════════════════════════════════════════════════»\n",
       "«                                                                         »\n",
       "«                  ░ \n",
       "«q_0: ─────────────░─\n",
       "«                  ░ \n",
       "«q_1: ─────────────░─\n",
       "«     ┌──────────┐ ░ \n",
       "«q_2: ┤ Ry(θ_26) ├─░─\n",
       "«     ├──────────┤ ░ \n",
       "«q_3: ┤ Ry(θ_27) ├─░─\n",
       "«     └──────────┘ ░ \n",
       "«c: 4/═══════════════\n",
       "«                    "
      ]
     },
     "execution_count": 20,
     "metadata": {},
     "output_type": "execute_result"
    }
   ],
   "source": [
    "circuit = VQE_circuit(num_qubits=4, num_layers=2)\n",
    "circuit.draw()"
   ]
  },
  {
   "attachments": {},
   "cell_type": "markdown",
   "id": "f38cd517",
   "metadata": {},
   "source": [
    "# Annealing\n",
    "\n",
    "For the annealing part of the paper we used the open-source benchmarking framework QUARK. We refer the reader to the [source code](https://github.com/QUARK-framework/QUARK) and the official [documentation](https://quark-framework.readthedocs.io/en/latest/).\n",
    "\n",
    "The following example is an MVP of how the knapsack problem is solved with a the simulated annealing approach described in the paper. Because the DWave devices were removed from AWS Braket in November 2022, some minor adjustments were made to some of the files (now labelled \"..._without_DWave\") but the original files have not been removed, so results can still be reproduced if the user have access to DWave devices."
   ]
  },
  {
   "cell_type": "code",
   "execution_count": null,
   "metadata": {},
   "outputs": [
    {
     "name": "stdout",
     "output_type": "stream",
     "text": [
      "Collecting inquirer\n",
      "  Downloading inquirer-3.1.4-py3-none-any.whl.metadata (6.9 kB)\n",
      "Collecting blessed>=1.19.0 (from inquirer)\n",
      "  Downloading blessed-1.20.0-py2.py3-none-any.whl (58 kB)\n",
      "     ---------------------------------------- 0.0/58.4 kB ? eta -:--:--\n",
      "     --------------------- ------------------ 30.7/58.4 kB 1.3 MB/s eta 0:00:01\n",
      "     -------------------------------------- 58.4/58.4 kB 609.3 kB/s eta 0:00:00\n",
      "Collecting python-editor>=1.0.4 (from inquirer)\n",
      "  Downloading python_editor-1.0.4-py3-none-any.whl (4.9 kB)\n",
      "Collecting readchar>=3.0.6 (from inquirer)\n",
      "  Downloading readchar-4.0.5-py3-none-any.whl (8.5 kB)\n",
      "Requirement already satisfied: wcwidth>=0.1.4 in c:\\users\\admin\\appdata\\local\\programs\\python\\python311\\lib\\site-packages (from blessed>=1.19.0->inquirer) (0.2.6)\n",
      "Requirement already satisfied: six>=1.9.0 in c:\\users\\admin\\appdata\\local\\programs\\python\\python311\\lib\\site-packages (from blessed>=1.19.0->inquirer) (1.16.0)\n",
      "Collecting jinxed>=1.1.0 (from blessed>=1.19.0->inquirer)\n",
      "  Downloading jinxed-1.2.1-py2.py3-none-any.whl.metadata (4.7 kB)\n",
      "Requirement already satisfied: setuptools>=41.0 in c:\\users\\admin\\appdata\\local\\programs\\python\\python311\\lib\\site-packages (from readchar>=3.0.6->inquirer) (65.5.0)\n",
      "Collecting ansicon (from jinxed>=1.1.0->blessed>=1.19.0->inquirer)\n",
      "  Downloading ansicon-1.89.0-py2.py3-none-any.whl (63 kB)\n",
      "     ---------------------------------------- 0.0/63.7 kB ? eta -:--:--\n",
      "     ---------------------------------------- 0.0/63.7 kB ? eta -:--:--\n",
      "     -------------------------------------- - 61.4/63.7 kB 1.7 MB/s eta 0:00:01\n",
      "     -------------------------------------- 63.7/63.7 kB 861.9 kB/s eta 0:00:00\n",
      "Downloading inquirer-3.1.4-py3-none-any.whl (18 kB)\n",
      "Downloading jinxed-1.2.1-py2.py3-none-any.whl (33 kB)\n",
      "Installing collected packages: python-editor, ansicon, readchar, jinxed, blessed, inquirer\n",
      "Successfully installed ansicon-1.89.0 blessed-1.20.0 inquirer-3.1.4 jinxed-1.2.1 python-editor-1.0.4 readchar-4.0.5\n",
      "Note: you may need to restart the kernel to use updated packages.\n"
     ]
    },
    {
     "name": "stderr",
     "output_type": "stream",
     "text": [
      "DEPRECATION: Loading egg at c:\\users\\admin\\appdata\\local\\programs\\python\\python311\\lib\\site-packages\\covid_abs-0.0.2-py3.11.egg is deprecated. pip 24.3 will enforce this behaviour change. A possible replacement is to use pip for package installation.. Discussion can be found at https://github.com/pypa/pip/issues/12330\n"
     ]
    }
   ],
   "source": [
    "pip install inquirer"
   ]
  },
  {
   "cell_type": "code",
   "execution_count": null,
   "metadata": {},
   "outputs": [
    {
     "name": "stdout",
     "output_type": "stream",
     "text": [
      "Collecting seaborn\n",
      "  Downloading seaborn-0.13.0-py3-none-any.whl.metadata (5.3 kB)\n",
      "Requirement already satisfied: numpy!=1.24.0,>=1.20 in c:\\users\\admin\\appdata\\local\\programs\\python\\python311\\lib\\site-packages (from seaborn) (1.24.2)\n",
      "Requirement already satisfied: pandas>=1.2 in c:\\users\\admin\\appdata\\local\\programs\\python\\python311\\lib\\site-packages (from seaborn) (2.0.0)\n",
      "Requirement already satisfied: matplotlib!=3.6.1,>=3.3 in c:\\users\\admin\\appdata\\local\\programs\\python\\python311\\lib\\site-packages (from seaborn) (3.7.1)\n",
      "Requirement already satisfied: contourpy>=1.0.1 in c:\\users\\admin\\appdata\\local\\programs\\python\\python311\\lib\\site-packages (from matplotlib!=3.6.1,>=3.3->seaborn) (1.0.7)\n",
      "Requirement already satisfied: cycler>=0.10 in c:\\users\\admin\\appdata\\local\\programs\\python\\python311\\lib\\site-packages (from matplotlib!=3.6.1,>=3.3->seaborn) (0.11.0)\n",
      "Requirement already satisfied: fonttools>=4.22.0 in c:\\users\\admin\\appdata\\local\\programs\\python\\python311\\lib\\site-packages (from matplotlib!=3.6.1,>=3.3->seaborn) (4.39.3)\n",
      "Requirement already satisfied: kiwisolver>=1.0.1 in c:\\users\\admin\\appdata\\local\\programs\\python\\python311\\lib\\site-packages (from matplotlib!=3.6.1,>=3.3->seaborn) (1.4.4)\n",
      "Requirement already satisfied: packaging>=20.0 in c:\\users\\admin\\appdata\\local\\programs\\python\\python311\\lib\\site-packages (from matplotlib!=3.6.1,>=3.3->seaborn) (23.1)\n",
      "Requirement already satisfied: pillow>=6.2.0 in c:\\users\\admin\\appdata\\local\\programs\\python\\python311\\lib\\site-packages (from matplotlib!=3.6.1,>=3.3->seaborn) (9.5.0)\n",
      "Requirement already satisfied: pyparsing>=2.3.1 in c:\\users\\admin\\appdata\\local\\programs\\python\\python311\\lib\\site-packages (from matplotlib!=3.6.1,>=3.3->seaborn) (3.0.9)\n",
      "Requirement already satisfied: python-dateutil>=2.7 in c:\\users\\admin\\appdata\\local\\programs\\python\\python311\\lib\\site-packages (from matplotlib!=3.6.1,>=3.3->seaborn) (2.8.2)\n",
      "Requirement already satisfied: pytz>=2020.1 in c:\\users\\admin\\appdata\\local\\programs\\python\\python311\\lib\\site-packages (from pandas>=1.2->seaborn) (2023.3)\n",
      "Requirement already satisfied: tzdata>=2022.1 in c:\\users\\admin\\appdata\\local\\programs\\python\\python311\\lib\\site-packages (from pandas>=1.2->seaborn) (2023.3)\n",
      "Requirement already satisfied: six>=1.5 in c:\\users\\admin\\appdata\\local\\programs\\python\\python311\\lib\\site-packages (from python-dateutil>=2.7->matplotlib!=3.6.1,>=3.3->seaborn) (1.16.0)\n",
      "Downloading seaborn-0.13.0-py3-none-any.whl (294 kB)\n",
      "   ---------------------------------------- 0.0/294.6 kB ? eta -:--:--\n",
      "   ---------------------------------------- 0.0/294.6 kB ? eta -:--:--\n",
      "   -------- ------------------------------- 61.4/294.6 kB 3.2 MB/s eta 0:00:01\n",
      "   --------- ----------------------------- 71.7/294.6 kB 975.2 kB/s eta 0:00:01\n",
      "   ------------ --------------------------- 92.2/294.6 kB 1.0 MB/s eta 0:00:01\n",
      "   --------------- ---------------------- 122.9/294.6 kB 717.5 kB/s eta 0:00:01\n",
      "   ------------------ ------------------- 143.4/294.6 kB 708.1 kB/s eta 0:00:01\n",
      "   ------------------ ------------------- 143.4/294.6 kB 708.1 kB/s eta 0:00:01\n",
      "   ---------------------- --------------- 174.1/294.6 kB 551.6 kB/s eta 0:00:01\n",
      "   -------------------------- ----------- 204.8/294.6 kB 591.4 kB/s eta 0:00:01\n",
      "   ------------------------------ ------- 235.5/294.6 kB 533.8 kB/s eta 0:00:01\n",
      "   --------------------------------- ---- 256.0/294.6 kB 524.0 kB/s eta 0:00:01\n",
      "   ----------------------------------- -- 276.5/294.6 kB 532.5 kB/s eta 0:00:01\n",
      "   ----------------------------------- -- 276.5/294.6 kB 532.5 kB/s eta 0:00:01\n",
      "   ----------------------------------- -- 276.5/294.6 kB 532.5 kB/s eta 0:00:01\n",
      "   ----------------------------------- -- 276.5/294.6 kB 532.5 kB/s eta 0:00:01\n",
      "   ----------------------------------- -- 276.5/294.6 kB 532.5 kB/s eta 0:00:01\n",
      "   ----------------------------------- -- 276.5/294.6 kB 532.5 kB/s eta 0:00:01\n",
      "Note: you may need to restart the kernel to use updated packages.\n"
     ]
    },
    {
     "name": "stderr",
     "output_type": "stream",
     "text": [
      "DEPRECATION: Loading egg at c:\\users\\admin\\appdata\\local\\programs\\python\\python311\\lib\\site-packages\\covid_abs-0.0.2-py3.11.egg is deprecated. pip 24.3 will enforce this behaviour change. A possible replacement is to use pip for package installation.. Discussion can be found at https://github.com/pypa/pip/issues/12330\n"
     ]
    },
    {
     "name": "stdout",
     "output_type": "stream",
     "text": [
      "   -------------------------------------- 294.6/294.6 kB 343.0 kB/s eta 0:00:00\n",
      "Installing collected packages: seaborn\n",
      "Successfully installed seaborn-0.13.0\n"
     ]
    }
   ],
   "source": [
    "pip install seaborn"
   ]
  },
  {
   "cell_type": "code",
   "execution_count": null,
   "id": "7b129efa",
   "metadata": {},
   "outputs": [
    {
     "data": {
      "text/plain": [
       "<Figure size 446.25x300 with 0 Axes>"
      ]
     },
     "metadata": {},
     "output_type": "display_data"
    },
    {
     "data": {
      "text/plain": [
       "<Figure size 446.25x300 with 0 Axes>"
      ]
     },
     "metadata": {},
     "output_type": "display_data"
    },
    {
     "data": {
      "text/plain": [
       "<Figure size 1500x1000 with 0 Axes>"
      ]
     },
     "metadata": {},
     "output_type": "display_data"
    },
    {
     "data": {
      "text/plain": [
       "<Figure size 395.153x300 with 0 Axes>"
      ]
     },
     "metadata": {},
     "output_type": "display_data"
    }
   ],
   "source": [
    "import os, sys\n",
    "sys.path.append(os.path.join(os.path.dirname(\"Annealing/QUARK/src/\")))\n",
    "sys.path.append(os.path.join(os.path.dirname(\"Annealing/QUARK/paper_config/\")))\n",
    "import yaml\n",
    "import Annealing.QUARK.src.config as config\n",
    "import Annealing.QUARK.src.main as main\n",
    "import Annealing.QUARK.src.BenchmarkManager as BenchmarkManager\n",
    "import Annealing.QUARK.src.applications.Application\n",
    "import Annealing.QUARK.src.applications.Mapping\n",
    "import Annealing.QUARK.src.applications.Knapsack\n",
    "import Annealing.QUARK.src.applications.Knapsack.mappings.MultiKSQUBO\n",
    "import Annealing.QUARK.src.devices.Device\n",
    "import Annealing.QUARK.src.devices.SimulatedAnnealingSampler\n",
    "import Annealing.QUARK.src.solvers.Solver\n",
    "import Annealing.QUARK.src.solvers.Annealer_without_DWave\n",
    "\n",
    "benchmark_manager = BenchmarkManager.BenchmarkManager()\n",
    "\n",
    "f = open(\"Annealing/QUARK/paper_config/annealing_example.yml\")\n",
    "benchmark_config = yaml.load(f, Loader=yaml.FullLoader)\n",
    "benchmark_manager.orchestrate_benchmark(benchmark_config)\n",
    "df = benchmark_manager.load_results()\n",
    "benchmark_manager.vizualize_results(df)\n"
   ]
  },
  {
   "attachments": {},
   "cell_type": "markdown",
   "id": "586adcb6",
   "metadata": {},
   "source": [
    "Now you can have a look at the results in [benchmark_runs](./benchmark_runs/)."
   ]
  },
  {
   "cell_type": "markdown",
   "id": "778736b2",
   "metadata": {},
   "source": [
    "# Calculation of circuit runtimes\n",
    "\n",
    "In addition to the evaluation code we also provide an estimate of circuit runtimes on a real hardware, for standard QAOA and VQE."
   ]
  },
  {
   "cell_type": "code",
   "execution_count": null,
   "id": "825cd80d",
   "metadata": {},
   "outputs": [
    {
     "ename": "NameError",
     "evalue": "name 'FakeBrooklyn' is not defined",
     "output_type": "error",
     "traceback": [
      "\u001b[1;31m---------------------------------------------------------------------------\u001b[0m",
      "\u001b[1;31mNameError\u001b[0m                                 Traceback (most recent call last)",
      "\u001b[1;32mc:\\Users\\ADMIN\\Desktop\\IIT Mandi\\Inter-IIT Tech\\Quantum Computing - Mphasis\\Code\\Knapsack-main\\Knapsack-main\\Knapsack_Full_Notebook.ipynb Cell 30\u001b[0m line \u001b[0;36m1\n\u001b[0;32m      <a href='vscode-notebook-cell:/c%3A/Users/ADMIN/Desktop/IIT%20Mandi/Inter-IIT%20Tech/Quantum%20Computing%20-%20Mphasis/Code/Knapsack-main/Knapsack-main/Knapsack_Full_Notebook.ipynb#X30sZmlsZQ%3D%3D?line=7'>8</a>\u001b[0m objective_weight \u001b[39m=\u001b[39m \u001b[39m1\u001b[39m\n\u001b[0;32m      <a href='vscode-notebook-cell:/c%3A/Users/ADMIN/Desktop/IIT%20Mandi/Inter-IIT%20Tech/Quantum%20Computing%20-%20Mphasis/Code/Knapsack-main/Knapsack-main/Knapsack_Full_Notebook.ipynb#X30sZmlsZQ%3D%3D?line=8'>9</a>\u001b[0m formulation      \u001b[39m=\u001b[39m \u001b[39m'\u001b[39m\u001b[39mBinary\u001b[39m\u001b[39m'\u001b[39m\n\u001b[1;32m---> <a href='vscode-notebook-cell:/c%3A/Users/ADMIN/Desktop/IIT%20Mandi/Inter-IIT%20Tech/Quantum%20Computing%20-%20Mphasis/Code/Knapsack-main/Knapsack-main/Knapsack_Full_Notebook.ipynb#X30sZmlsZQ%3D%3D?line=10'>11</a>\u001b[0m backend \u001b[39m=\u001b[39m FakeBrooklyn()\n\u001b[0;32m     <a href='vscode-notebook-cell:/c%3A/Users/ADMIN/Desktop/IIT%20Mandi/Inter-IIT%20Tech/Quantum%20Computing%20-%20Mphasis/Code/Knapsack-main/Knapsack-main/Knapsack_Full_Notebook.ipynb#X30sZmlsZQ%3D%3D?line=12'>13</a>\u001b[0m \u001b[39m#averages for transpilation\u001b[39;00m\n\u001b[0;32m     <a href='vscode-notebook-cell:/c%3A/Users/ADMIN/Desktop/IIT%20Mandi/Inter-IIT%20Tech/Quantum%20Computing%20-%20Mphasis/Code/Knapsack-main/Knapsack-main/Knapsack_Full_Notebook.ipynb#X30sZmlsZQ%3D%3D?line=13'>14</a>\u001b[0m comp_averages\u001b[39m=\u001b[39m\u001b[39m20\u001b[39m\n",
      "\u001b[1;31mNameError\u001b[0m: name 'FakeBrooklyn' is not defined"
     ]
    }
   ],
   "source": [
    "import json\n",
    "import Runtimes.circ_runtime_evaluation\n",
    "importlib.reload(Runtimes.circ_runtime_evaluation)\n",
    "from Runtimes.circ_runtime_evaluation import *\n",
    "\n",
    "scenarios = np.array([1,2,3,4])\n",
    "num_layers = 1\n",
    "objective_weight = 1\n",
    "formulation      = 'Binary'\n",
    "\n",
    "backend = FakeBrooklyn()\n",
    "\n",
    "#averages for transpilation\n",
    "comp_averages=20\n",
    "\n",
    "#optimization level for transpilation\n",
    "opt_level = 3 \n",
    "\n",
    "algorithm='vqe' # 'qaoa', 'vqe'\n",
    "\n",
    "file = 'data/knapsack/qaoa_data.json'\n",
    "with open(file, 'r') as f:\n",
    "    dataset = json.load(f)\n",
    "\n",
    "# create object and calculate runtimes\n",
    "calc_runtimes = circ_runtime_evaluation(dataset, scenarios, num_layers, objective_weight, formulation, comp_averages, opt_level, backend, algorithm)\n",
    "\n",
    "runtimes_mean = calc_runtimes.runtimes_mean\n",
    "print('Mean Circuit Runtimes for VQE')\n",
    "print(f'Scenario \\t runtime (millisecond) \\t standard-deviation')\n",
    "print('-----------------------------------------------------')\n",
    "for i in range(len(runtimes_mean)):\n",
    "    print(f'scenario_{i+1}\\t {runtimes_mean[i][0]} \\t {runtimes_mean[i][1]}')\n",
    "print('\\n\\n')    \n",
    "\n",
    "\n",
    "\n",
    "algorithm='qaoa' # 'qaoa', 'vqe'\n",
    "\n",
    "# create object and calculate runtimes\n",
    "calc_runtimes = circ_runtime_evaluation(dataset, scenarios, num_layers, objective_weight, formulation, comp_averages, opt_level, backend, algorithm)\n",
    "\n",
    "runtimes_mean = calc_runtimes.runtimes_mean\n",
    "print('Mean Circuit Runtimes for QAOA')\n",
    "print(f'Scenario \\t runtime (millisecond) \\t standard-deviation')\n",
    "print('-----------------------------------------------------')\n",
    "for i in range(len(runtimes_mean)):\n",
    "    print(f'scenario_{i+1}\\t {runtimes_mean[i][0]} \\t {runtimes_mean[i][1]}')    "
   ]
  },
  {
   "cell_type": "code",
   "execution_count": null,
   "id": "b8f4581a",
   "metadata": {},
   "outputs": [],
   "source": []
  }
 ],
 "metadata": {
  "kernelspec": {
   "display_name": "Python 3.9.17 ('qutac_test')",
   "language": "python",
   "name": "python3"
  },
  "language_info": {
   "codemirror_mode": {
    "name": "ipython",
    "version": 3
   },
   "file_extension": ".py",
   "mimetype": "text/x-python",
   "name": "python",
   "nbconvert_exporter": "python",
   "pygments_lexer": "ipython3",
   "version": "3.11.0"
  },
  "vscode": {
   "interpreter": {
    "hash": "7598127f1bb73f45aeb4a193466d375320ae4a27a3b1a13d4691c171fa6b6b01"
   }
  }
 },
 "nbformat": 4,
 "nbformat_minor": 5
}
