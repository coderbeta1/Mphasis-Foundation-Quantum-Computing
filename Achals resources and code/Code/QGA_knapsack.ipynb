{
 "cells": [
  {
   "cell_type": "code",
   "execution_count": 1,
   "id": "db808bf7-f9db-4eff-b36a-f549905b0c14",
   "metadata": {
    "tags": []
   },
   "outputs": [
    {
     "ename": "ModuleNotFoundError",
     "evalue": "No module named 'ibm_quantum_widgets'",
     "output_type": "error",
     "traceback": [
      "\u001b[1;31m---------------------------------------------------------------------------\u001b[0m",
      "\u001b[1;31mModuleNotFoundError\u001b[0m                       Traceback (most recent call last)",
      "\u001b[1;32mc:\\Users\\ADMIN\\Desktop\\IIT Mandi\\Inter-IIT Tech\\Quantum Computing - Mphasis\\Code\\QGA_knapsack.ipynb Cell 1\u001b[0m line \u001b[0;36m5\n\u001b[0;32m      <a href='vscode-notebook-cell:/c%3A/Users/ADMIN/Desktop/IIT%20Mandi/Inter-IIT%20Tech/Quantum%20Computing%20-%20Mphasis/Code/QGA_knapsack.ipynb#W0sZmlsZQ%3D%3D?line=2'>3</a>\u001b[0m \u001b[39mfrom\u001b[39;00m \u001b[39mqiskit\u001b[39;00m\u001b[39m.\u001b[39;00m\u001b[39mtools\u001b[39;00m\u001b[39m.\u001b[39;00m\u001b[39mjupyter\u001b[39;00m \u001b[39mimport\u001b[39;00m \u001b[39m*\u001b[39m\n\u001b[0;32m      <a href='vscode-notebook-cell:/c%3A/Users/ADMIN/Desktop/IIT%20Mandi/Inter-IIT%20Tech/Quantum%20Computing%20-%20Mphasis/Code/QGA_knapsack.ipynb#W0sZmlsZQ%3D%3D?line=3'>4</a>\u001b[0m \u001b[39mfrom\u001b[39;00m \u001b[39mqiskit\u001b[39;00m\u001b[39m.\u001b[39;00m\u001b[39mvisualization\u001b[39;00m \u001b[39mimport\u001b[39;00m \u001b[39m*\u001b[39m\n\u001b[1;32m----> <a href='vscode-notebook-cell:/c%3A/Users/ADMIN/Desktop/IIT%20Mandi/Inter-IIT%20Tech/Quantum%20Computing%20-%20Mphasis/Code/QGA_knapsack.ipynb#W0sZmlsZQ%3D%3D?line=4'>5</a>\u001b[0m \u001b[39mfrom\u001b[39;00m \u001b[39mibm_quantum_widgets\u001b[39;00m \u001b[39mimport\u001b[39;00m \u001b[39m*\u001b[39m\n\u001b[0;32m      <a href='vscode-notebook-cell:/c%3A/Users/ADMIN/Desktop/IIT%20Mandi/Inter-IIT%20Tech/Quantum%20Computing%20-%20Mphasis/Code/QGA_knapsack.ipynb#W0sZmlsZQ%3D%3D?line=6'>7</a>\u001b[0m \u001b[39m# qiskit-ibmq-provider has been deprecated.\u001b[39;00m\n\u001b[0;32m      <a href='vscode-notebook-cell:/c%3A/Users/ADMIN/Desktop/IIT%20Mandi/Inter-IIT%20Tech/Quantum%20Computing%20-%20Mphasis/Code/QGA_knapsack.ipynb#W0sZmlsZQ%3D%3D?line=7'>8</a>\u001b[0m \u001b[39m# Please see the Migration Guides in https://ibm.biz/provider_migration_guide for more detail.\u001b[39;00m\n\u001b[0;32m      <a href='vscode-notebook-cell:/c%3A/Users/ADMIN/Desktop/IIT%20Mandi/Inter-IIT%20Tech/Quantum%20Computing%20-%20Mphasis/Code/QGA_knapsack.ipynb#W0sZmlsZQ%3D%3D?line=8'>9</a>\u001b[0m \u001b[39mfrom\u001b[39;00m \u001b[39mqiskit_ibm_runtime\u001b[39;00m \u001b[39mimport\u001b[39;00m QiskitRuntimeService, Sampler, Estimator, Session, Options\n",
      "\u001b[1;31mModuleNotFoundError\u001b[0m: No module named 'ibm_quantum_widgets'"
     ]
    }
   ],
   "source": [
    "# Importing standard Qiskit libraries\n",
    "from qiskit import QuantumCircuit, transpile\n",
    "from qiskit.tools.jupyter import *\n",
    "from qiskit.visualization import *\n",
    "from ibm_quantum_widgets import *\n",
    "\n",
    "# qiskit-ibmq-provider has been deprecated.\n",
    "# Please see the Migration Guides in https://ibm.biz/provider_migration_guide for more detail.\n",
    "from qiskit_ibm_runtime import QiskitRuntimeService, Sampler, Estimator, Session, Options\n",
    "\n",
    "# Loading your IBM Quantum account(s)\n",
    "service = QiskitRuntimeService(channel=\"ibm_quantum\")\n",
    "\n",
    "# Invoke a primitive. For more details see https://docs.quantum-computing.ibm.com/run/primitives\n",
    "# result = Sampler().run(circuits).result()\n",
    "from qiskit.circuit import ClassicalRegister, QuantumRegister\n",
    "from qiskit.circuit import QuantumCircuit\n",
    "from qiskit.primitives import Estimator, Sampler\n",
    "from qiskit.quantum_info import SparsePauliOp\n",
    "from qiskit.visualization import plot_histogram\n",
    "from qiskit.circuit import Parameter\n",
    "\n",
    "import numpy as np\n",
    "import matplotlib.pyplot as plt\n",
    "plt.style.use('dark_background') # optional\n",
    "from qiskit_aer import AerSimulator\n",
    "from qiskit import QuantumCircuit, Aer, execute"
   ]
  },
  {
   "cell_type": "markdown",
   "id": "54b68fca-2006-4e8b-94b2-b69d70962dae",
   "metadata": {},
   "source": [
    "Making the Oracle of the Deutsch Jozsa Algorithm"
   ]
  },
  {
   "cell_type": "code",
   "execution_count": 2,
   "id": "751ebf92-2b64-4aee-8b0b-7e2c3ac728f1",
   "metadata": {
    "tags": []
   },
   "outputs": [],
   "source": [
    "def oracle(q_c):\n",
    "    n = q_c.num_qubits\n",
    "    for i in range(n-1):\n",
    "        q_c.cx(i,n-1)\n",
    "    return q_c    \n",
    "    "
   ]
  },
  {
   "cell_type": "markdown",
   "id": "1bb4e054-41c7-4101-b0b2-7132e299ccac",
   "metadata": {},
   "source": [
    "Defining adaptive rotation Algorithm"
   ]
  },
  {
   "cell_type": "code",
   "execution_count": 3,
   "id": "f70af11c-48b0-47a0-a611-587836a468e2",
   "metadata": {
    "tags": []
   },
   "outputs": [],
   "source": [
    "def adaptive_rotation(theta_max,theta_min,i,iter_max):\n",
    "    theta_i = theta_max-((theta_max-theta_min)/iter_max)*i\n",
    "    return theta_i"
   ]
  },
  {
   "cell_type": "markdown",
   "id": "e2ef7543-244d-46c8-b85b-74fd7dea80c3",
   "metadata": {},
   "source": [
    "Recombination Operator "
   ]
  },
  {
   "cell_type": "code",
   "execution_count": 6,
   "id": "15e2c846-b15c-4e94-beb0-5fc2041d397d",
   "metadata": {
    "tags": []
   },
   "outputs": [],
   "source": [
    "def recombination(m,theta_max,theta_min,t,t_max):\n",
    "    qr = QuantumRegister(m+1, 'q')\n",
    "    cr = ClassicalRegister(m,'q_m')\n",
    "    qc = QuantumCircuit(qr,cr)\n",
    "   \n",
    "    qc.x(m)\n",
    "    qc.barrier()\n",
    "    for i in range(m+1):\n",
    "        qc.h(i)\n",
    "    qc.barrier()    \n",
    "    oracle(qc)\n",
    "    qc.barrier()  \n",
    "    for i in range(m):\n",
    "        qc.h(i)\n",
    "    qc.barrier()     \n",
    "    theta = adaptive_rotation(theta_max,theta_min,t,t_max)\n",
    "    for i in range(m+1):\n",
    "        qc.ry(theta,i)\n",
    "    qc.barrier()    \n",
    "    qc.measure(range(m), range(m))\n",
    "    return qc\n",
    "\n",
    "qc_1 = recombination(3, np.pi, -np.pi,1,100)"
   ]
  },
  {
   "cell_type": "code",
   "execution_count": 22,
   "id": "41bd3acf-de6c-4edc-89c8-517e40f94809",
   "metadata": {
    "tags": []
   },
   "outputs": [
    {
     "name": "stdout",
     "output_type": "stream",
     "text": [
      "['001', '100', '010', '000']\n"
     ]
    }
   ],
   "source": [
    "def population(qc):\n",
    "    sim = Aer.get_backend('aer_simulator')\n",
    "    shots = 10000\n",
    "    counts_qc = execute(qc, sim, shots=shots).result().get_counts()\n",
    "    plot_histogram(counts_qc, figsize=(9,5))\n",
    "    # print(counts_qc)\n",
    "    return list(counts_qc.keys())\n",
    "\n",
    "print(population(recombination(3, np.pi, -np.pi,1,100)))    "
   ]
  },
  {
   "cell_type": "code",
   "execution_count": null,
   "id": "eb4c7447-4e39-4842-ad40-89fd38a06eb3",
   "metadata": {},
   "outputs": [],
   "source": [
    "binary_array = np.fromiter(binary_string, dtype=int)"
   ]
  },
  {
   "cell_type": "code",
   "execution_count": 18,
   "id": "1436cc5b-7964-42a7-9761-45d50da6afd9",
   "metadata": {},
   "outputs": [],
   "source": [
    "def fitness(x,p):\n",
    "    f = []\n",
    "    for i in x:\n",
    "        x_i = np.fromiter(i, dtype=int)\n",
    "        f.append(x_i.dot(p))    \n",
    "    return np.array(f)"
   ]
  },
  {
   "cell_type": "code",
   "execution_count": 19,
   "id": "e73dca71-875c-4765-9d94-93ee9d0ca49e",
   "metadata": {
    "tags": []
   },
   "outputs": [
    {
     "name": "stdout",
     "output_type": "stream",
     "text": [
      "['001', '100', '010', '000']\n",
      "[2 3 1 0]\n"
     ]
    }
   ],
   "source": [
    "#Testing\n",
    "x = population(qc_1)\n",
    "p = [3,1,2]\n",
    "print(x)\n",
    "print(fitness(x,p))\n"
   ]
  },
  {
   "cell_type": "code",
   "execution_count": null,
   "id": "d643e29a-d8b2-4ce0-9fe4-97c7bbfbd740",
   "metadata": {},
   "outputs": [],
   "source": [
    "def linear_penalty_fitness(x,p,w,C,lamda):\n",
    "    fitness_initial = fitness(x,p)\n",
    "    fitness_pen = []\n",
    "    for i in range(len(x)):\n",
    "        x_i = np.fromiter(i, dtype = int)\n",
    "        w_i = x_i.dot(w)\n",
    "        if w_i>C:\n",
    "            f_p = fitness_initial[i]-lamda*(w_i-C)\n",
    "        else:\n",
    "            f_p = fitness_initial[i]\n",
    "        fitness_pen.append(f_p)\n",
    "    \n",
    "    return fitness_pen\n",
    "    "
   ]
  },
  {
   "cell_type": "code",
   "execution_count": 23,
   "id": "677d755b-a370-4217-bdc9-8bbd9fac6da6",
   "metadata": {
    "tags": []
   },
   "outputs": [],
   "source": [
    "def best_solution(x,fit):\n",
    "    index_max = np.argmax(fit)\n",
    "    b_s = x[index_max]\n",
    "    return b_s"
   ]
  },
  {
   "cell_type": "code",
   "execution_count": 24,
   "id": "a4f790df-1568-447d-b0b5-70078791260e",
   "metadata": {
    "tags": []
   },
   "outputs": [
    {
     "name": "stdout",
     "output_type": "stream",
     "text": [
      "100\n"
     ]
    }
   ],
   "source": [
    "print(best_solution(x,fitness(x,p)))"
   ]
  },
  {
   "cell_type": "code",
   "execution_count": 25,
   "id": "6d907205-09b4-4dce-b757-bccf10a08278",
   "metadata": {
    "tags": []
   },
   "outputs": [],
   "source": [
    "def Q_Genetic_Algorithm(p,w,C,theta_max,theta_min,t_max):\n",
    "    t = 0\n",
    "    best_sol = []\n",
    "    m = len(p)       #Number of items in the knapsack\n",
    "    Q_t = recombination(m,theta_max,theta_min,t,t_max) #Initial Population\n",
    "    for i in range(1,t_max):\n",
    "        pop = population(Q_t)  #Population of generation t\n",
    "        fit  = fitness(pop,p)  #List of Fitness values of chromosomes of the population\n",
    "        b_sol = best_solution(pop,fit) #Finding best solution\n",
    "        best_sol.append(b_sol)\n",
    "        t = t+1\n",
    "        Q_t = recombination(m,theta_max,theta_min,t,t_max)\n",
    "        \n",
    "    return best_sol\n"
   ]
  },
  {
   "cell_type": "code",
   "execution_count": 26,
   "id": "49c40b92-a0ef-48f8-932f-c435aad737e8",
   "metadata": {
    "tags": []
   },
   "outputs": [
    {
     "name": "stdout",
     "output_type": "stream",
     "text": [
      "['100', '100', '101', '110', '100', '100', '101', '100', '100', '100', '100', '100', '100', '101', '100', '100', '100', '011', '100', '100', '100', '100', '100', '100', '100', '110', '011', '100', '101', '100', '101', '100', '100', '100', '110', '100', '110', '110', '011', '100', '101', '100', '110', '110', '100', '101', '110', '100', '100', '110', '100', '100', '100', '101', '110', '100', '100', '110', '101', '100', '110', '100', '100', '101', '100', '101', '110', '100', '100', '100', '100', '110', '011', '101', '100', '011', '100', '110', '100', '100', '100', '011', '100', '011', '100', '100', '011', '100', '110', '110', '100', '100', '100', '100', '011', '110', '101', '100', '101']\n"
     ]
    }
   ],
   "source": [
    "p = [3,1,2]\n",
    "w = [1,2,3]\n",
    "C = 4\n",
    "theta_max = np.pi\n",
    "theta_min = -np.pi\n",
    "t_max = 100\n",
    "print(Q_Genetic_Algorithm(p,w,C,theta_max,theta_min,t_max))"
   ]
  },
  {
   "cell_type": "code",
   "execution_count": null,
   "id": "bbd659c0-9fac-4da6-b800-60b93e965f20",
   "metadata": {},
   "outputs": [],
   "source": []
  }
 ],
 "metadata": {
  "kernelspec": {
   "display_name": "Python 3 (ipykernel)",
   "language": "python",
   "name": "python3"
  },
  "language_info": {
   "codemirror_mode": {
    "name": "ipython",
    "version": 3
   },
   "file_extension": ".py",
   "mimetype": "text/x-python",
   "name": "python",
   "nbconvert_exporter": "python",
   "pygments_lexer": "ipython3",
   "version": "3.10.8"
  },
  "widgets": {
   "application/vnd.jupyter.widget-state+json": {
    "state": {
     "00df85e545c446edb34f4c8d967d2e22": {
      "model_module": "@jupyter-widgets/base",
      "model_module_version": "2.0.0",
      "model_name": "LayoutModel",
      "state": {
       "margin": "0px 0px 10px 0px"
      }
     },
     "046a70706c5049caba009e8e34fd395b": {
      "model_module": "@jupyter-widgets/controls",
      "model_module_version": "2.0.0",
      "model_name": "HTMLStyleModel",
      "state": {
       "description_width": "",
       "font_size": null,
       "text_color": null
      }
     },
     "115c976ad3a249bcbbd25e8d2efd082b": {
      "model_module": "@jupyter-widgets/controls",
      "model_module_version": "2.0.0",
      "model_name": "HTMLModel",
      "state": {
       "layout": "IPY_MODEL_298122987f614c65b8bb3e332d8391dd",
       "style": "IPY_MODEL_998aa7c760684612bfb1ec9c162f0852",
       "value": "<h5>Message</h5>"
      }
     },
     "19d451fc96704b1a8c429208bd2a22f6": {
      "model_module": "@jupyter-widgets/base",
      "model_module_version": "2.0.0",
      "model_name": "LayoutModel",
      "state": {
       "grid_template_areas": "\n                                       \". . . . right \"\n                                        ",
       "grid_template_columns": "20% 20% 20% 20% 20%",
       "width": "100%"
      }
     },
     "1b8e7c8b9fe1441a9f746e0285456a3b": {
      "model_module": "@jupyter-widgets/base",
      "model_module_version": "2.0.0",
      "model_name": "LayoutModel",
      "state": {
       "width": "145px"
      }
     },
     "23c63bbad9524259823f83993e93dab3": {
      "model_module": "@jupyter-widgets/controls",
      "model_module_version": "2.0.0",
      "model_name": "HTMLModel",
      "state": {
       "layout": "IPY_MODEL_d94403277f8641abbda22655c2817c2c",
       "style": "IPY_MODEL_046a70706c5049caba009e8e34fd395b",
       "value": "<h5>Queue</h5>"
      }
     },
     "298122987f614c65b8bb3e332d8391dd": {
      "model_module": "@jupyter-widgets/base",
      "model_module_version": "2.0.0",
      "model_name": "LayoutModel",
      "state": {}
     },
     "2af56274837c475ca6d98b0da681c99b": {
      "model_module": "@jupyter-widgets/base",
      "model_module_version": "2.0.0",
      "model_name": "LayoutModel",
      "state": {
       "width": "95px"
      }
     },
     "2e0b00e13dac409b96c155be3906db38": {
      "model_module": "@jupyter-widgets/controls",
      "model_module_version": "2.0.0",
      "model_name": "HTMLModel",
      "state": {
       "layout": "IPY_MODEL_00df85e545c446edb34f4c8d967d2e22",
       "style": "IPY_MODEL_a8c77faaba5648f399dd2785f83517e1",
       "value": "<p style='font-family: IBM Plex Sans, Arial, Helvetica, sans-serif; font-size: 20px; font-weight: medium;'>Circuit Properties</p>"
      }
     },
     "365af8d9d5f144dcb405a3c20d9382fe": {
      "model_module": "@jupyter-widgets/base",
      "model_module_version": "2.0.0",
      "model_name": "LayoutModel",
      "state": {
       "grid_area": "right",
       "padding": "0px 0px 0px 0px",
       "width": "70px"
      }
     },
     "3799a3ae29a9491f894af740385a0484": {
      "model_module": "@jupyter-widgets/controls",
      "model_module_version": "2.0.0",
      "model_name": "ButtonModel",
      "state": {
       "button_style": "primary",
       "description": "Clear",
       "layout": "IPY_MODEL_365af8d9d5f144dcb405a3c20d9382fe",
       "style": "IPY_MODEL_5e7d01ed70ea426199c1d04878f65f7f",
       "tooltip": null
      }
     },
     "5010b52e662745e2914320bd7ec30eb3": {
      "model_module": "@jupyter-widgets/controls",
      "model_module_version": "2.0.0",
      "model_name": "HTMLModel",
      "state": {
       "layout": "IPY_MODEL_eca38d2a18494dd58c743866d75b06d7",
       "style": "IPY_MODEL_a9ee93e3581c4791be52cad794d0f056",
       "value": "<h5>Job ID</h5>"
      }
     },
     "5e7d01ed70ea426199c1d04878f65f7f": {
      "model_module": "@jupyter-widgets/controls",
      "model_module_version": "2.0.0",
      "model_name": "ButtonStyleModel",
      "state": {
       "font_family": null,
       "font_size": null,
       "font_style": null,
       "font_variant": null,
       "font_weight": null,
       "text_color": null,
       "text_decoration": null
      }
     },
     "86dab82f2200461887559aa01e150e80": {
      "model_module": "@jupyter-widgets/controls",
      "model_module_version": "2.0.0",
      "model_name": "HTMLModel",
      "state": {
       "layout": "IPY_MODEL_1b8e7c8b9fe1441a9f746e0285456a3b",
       "style": "IPY_MODEL_f2d42f73dff542ac81712bd087d718f6",
       "value": "<h5>Backend</h5>"
      }
     },
     "998aa7c760684612bfb1ec9c162f0852": {
      "model_module": "@jupyter-widgets/controls",
      "model_module_version": "2.0.0",
      "model_name": "HTMLStyleModel",
      "state": {
       "description_width": "",
       "font_size": null,
       "text_color": null
      }
     },
     "a8718473e5ca4acabc5399c436cd4ad8": {
      "model_module": "@jupyter-widgets/controls",
      "model_module_version": "2.0.0",
      "model_name": "HBoxModel",
      "state": {
       "children": [
        "IPY_MODEL_5010b52e662745e2914320bd7ec30eb3",
        "IPY_MODEL_86dab82f2200461887559aa01e150e80",
        "IPY_MODEL_bc1721aa1e1b4876a2c7dff40f520c7c",
        "IPY_MODEL_23c63bbad9524259823f83993e93dab3",
        "IPY_MODEL_115c976ad3a249bcbbd25e8d2efd082b"
       ],
       "layout": "IPY_MODEL_e3de2b39db514b7e9ac665b962f552be"
      }
     },
     "a8c77faaba5648f399dd2785f83517e1": {
      "model_module": "@jupyter-widgets/controls",
      "model_module_version": "2.0.0",
      "model_name": "HTMLStyleModel",
      "state": {
       "description_width": "",
       "font_size": null,
       "text_color": null
      }
     },
     "a9ee93e3581c4791be52cad794d0f056": {
      "model_module": "@jupyter-widgets/controls",
      "model_module_version": "2.0.0",
      "model_name": "HTMLStyleModel",
      "state": {
       "description_width": "",
       "font_size": null,
       "text_color": null
      }
     },
     "bc1721aa1e1b4876a2c7dff40f520c7c": {
      "model_module": "@jupyter-widgets/controls",
      "model_module_version": "2.0.0",
      "model_name": "HTMLModel",
      "state": {
       "layout": "IPY_MODEL_2af56274837c475ca6d98b0da681c99b",
       "style": "IPY_MODEL_e2bff9d1c53b4c51b45de4e70ca3c08e",
       "value": "<h5>Status</h5>"
      }
     },
     "d94403277f8641abbda22655c2817c2c": {
      "model_module": "@jupyter-widgets/base",
      "model_module_version": "2.0.0",
      "model_name": "LayoutModel",
      "state": {
       "width": "70px"
      }
     },
     "e2bff9d1c53b4c51b45de4e70ca3c08e": {
      "model_module": "@jupyter-widgets/controls",
      "model_module_version": "2.0.0",
      "model_name": "HTMLStyleModel",
      "state": {
       "description_width": "",
       "font_size": null,
       "text_color": null
      }
     },
     "e3de2b39db514b7e9ac665b962f552be": {
      "model_module": "@jupyter-widgets/base",
      "model_module_version": "2.0.0",
      "model_name": "LayoutModel",
      "state": {
       "margin": "0px 0px 0px 37px",
       "width": "600px"
      }
     },
     "eca38d2a18494dd58c743866d75b06d7": {
      "model_module": "@jupyter-widgets/base",
      "model_module_version": "2.0.0",
      "model_name": "LayoutModel",
      "state": {
       "width": "190px"
      }
     },
     "f27867721e4a41f1b88f1f04eb924498": {
      "model_module": "@jupyter-widgets/controls",
      "model_module_version": "2.0.0",
      "model_name": "GridBoxModel",
      "state": {
       "children": [
        "IPY_MODEL_3799a3ae29a9491f894af740385a0484"
       ],
       "layout": "IPY_MODEL_19d451fc96704b1a8c429208bd2a22f6"
      }
     },
     "f2d42f73dff542ac81712bd087d718f6": {
      "model_module": "@jupyter-widgets/controls",
      "model_module_version": "2.0.0",
      "model_name": "HTMLStyleModel",
      "state": {
       "description_width": "",
       "font_size": null,
       "text_color": null
      }
     }
    },
    "version_major": 2,
    "version_minor": 0
   }
  }
 },
 "nbformat": 4,
 "nbformat_minor": 5
}
